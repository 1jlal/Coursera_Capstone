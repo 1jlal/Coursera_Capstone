{
  "nbformat": 4,
  "nbformat_minor": 0,
  "metadata": {
    "colab": {
      "name": "Table_Scraping.ipynb",
      "provenance": [],
      "authorship_tag": "ABX9TyNqg8UkjTsjFadGeSBukN8+",
      "include_colab_link": true
    },
    "kernelspec": {
      "name": "python3",
      "display_name": "Python 3"
    }
  },
  "cells": [
    {
      "cell_type": "markdown",
      "metadata": {
        "id": "view-in-github",
        "colab_type": "text"
      },
      "source": [
        "<a href=\"https://colab.research.google.com/github/1jlal/Coursera_Capstone/blob/main/Table_Scraping.ipynb\" target=\"_parent\"><img src=\"https://colab.research.google.com/assets/colab-badge.svg\" alt=\"Open In Colab\"/></a>"
      ]
    },
    {
      "cell_type": "markdown",
      "metadata": {
        "id": "dbZcjSAhHybN"
      },
      "source": [
        "## **Scraping Canada Postal Codes Table from Wikipedia**\r\n",
        "\r\n",
        "Using BeautifulSoup library"
      ]
    },
    {
      "cell_type": "code",
      "metadata": {
        "id": "syjpCzjoiNan"
      },
      "source": [
        "import requests\n",
        "from bs4 import BeautifulSoup as bs\n",
        "import pandas as pd"
      ],
      "execution_count": 1,
      "outputs": []
    },
    {
      "cell_type": "code",
      "metadata": {
        "id": "nQGDIxWNuvOZ"
      },
      "source": [
        "r = requests.get('https://en.wikipedia.org/wiki/List_of_postal_codes_of_Canada:_M')\n",
        "\n",
        "webpage = bs(r.content)"
      ],
      "execution_count": 2,
      "outputs": []
    },
    {
      "cell_type": "code",
      "metadata": {
        "id": "utoq2X4rqU-j"
      },
      "source": [
        "table = webpage.select('table.wikitable')[0]\n",
        "# print(table)\n",
        "columns = table.find_all('th')\n",
        "column_names = [str(c.string).strip() for c in columns]\n",
        "# print(column_names)\n",
        "\n",
        "l = []\n",
        "table_rows = table.find('tbody').find_all('tr')\n",
        "\n",
        "for tr in table_rows:\n",
        "    td = tr.find_all('td')\n",
        "    row = [str(tr.string).strip() for tr in td]\n",
        "    l.append(row)\n",
        "\n",
        "# print(l[0:10])\n",
        "\n",
        "df = pd.DataFrame(l, columns=column_names)"
      ],
      "execution_count": 3,
      "outputs": []
    },
    {
      "cell_type": "code",
      "metadata": {
        "id": "9wxrNmjm0x_B",
        "colab": {
          "base_uri": "https://localhost:8080/",
          "height": 195
        },
        "outputId": "774c76e1-8b31-4a1d-d854-3d3241122b42"
      },
      "source": [
        "df.drop(df.index[0], inplace=True)\n",
        "df.head()"
      ],
      "execution_count": 4,
      "outputs": [
        {
          "output_type": "execute_result",
          "data": {
            "text/html": [
              "<div>\n",
              "<style scoped>\n",
              "    .dataframe tbody tr th:only-of-type {\n",
              "        vertical-align: middle;\n",
              "    }\n",
              "\n",
              "    .dataframe tbody tr th {\n",
              "        vertical-align: top;\n",
              "    }\n",
              "\n",
              "    .dataframe thead th {\n",
              "        text-align: right;\n",
              "    }\n",
              "</style>\n",
              "<table border=\"1\" class=\"dataframe\">\n",
              "  <thead>\n",
              "    <tr style=\"text-align: right;\">\n",
              "      <th></th>\n",
              "      <th>Postal Code</th>\n",
              "      <th>Borough</th>\n",
              "      <th>Neighbourhood</th>\n",
              "    </tr>\n",
              "  </thead>\n",
              "  <tbody>\n",
              "    <tr>\n",
              "      <th>1</th>\n",
              "      <td>M1A</td>\n",
              "      <td>Not assigned</td>\n",
              "      <td>Not assigned</td>\n",
              "    </tr>\n",
              "    <tr>\n",
              "      <th>2</th>\n",
              "      <td>M2A</td>\n",
              "      <td>Not assigned</td>\n",
              "      <td>Not assigned</td>\n",
              "    </tr>\n",
              "    <tr>\n",
              "      <th>3</th>\n",
              "      <td>M3A</td>\n",
              "      <td>North York</td>\n",
              "      <td>Parkwoods</td>\n",
              "    </tr>\n",
              "    <tr>\n",
              "      <th>4</th>\n",
              "      <td>M4A</td>\n",
              "      <td>North York</td>\n",
              "      <td>Victoria Village</td>\n",
              "    </tr>\n",
              "    <tr>\n",
              "      <th>5</th>\n",
              "      <td>M5A</td>\n",
              "      <td>Downtown Toronto</td>\n",
              "      <td>Regent Park, Harbourfront</td>\n",
              "    </tr>\n",
              "  </tbody>\n",
              "</table>\n",
              "</div>"
            ],
            "text/plain": [
              "  Postal Code           Borough              Neighbourhood\n",
              "1         M1A      Not assigned               Not assigned\n",
              "2         M2A      Not assigned               Not assigned\n",
              "3         M3A        North York                  Parkwoods\n",
              "4         M4A        North York           Victoria Village\n",
              "5         M5A  Downtown Toronto  Regent Park, Harbourfront"
            ]
          },
          "metadata": {
            "tags": []
          },
          "execution_count": 4
        }
      ]
    },
    {
      "cell_type": "code",
      "metadata": {
        "id": "8KFHbn911IOR",
        "colab": {
          "base_uri": "https://localhost:8080/",
          "height": 402
        },
        "outputId": "712561ed-6a97-49fb-c7e9-9f57aa236669"
      },
      "source": [
        "df_new = df[df.Borough != 'Not assigned']\n",
        "df_new"
      ],
      "execution_count": 5,
      "outputs": [
        {
          "output_type": "execute_result",
          "data": {
            "text/html": [
              "<div>\n",
              "<style scoped>\n",
              "    .dataframe tbody tr th:only-of-type {\n",
              "        vertical-align: middle;\n",
              "    }\n",
              "\n",
              "    .dataframe tbody tr th {\n",
              "        vertical-align: top;\n",
              "    }\n",
              "\n",
              "    .dataframe thead th {\n",
              "        text-align: right;\n",
              "    }\n",
              "</style>\n",
              "<table border=\"1\" class=\"dataframe\">\n",
              "  <thead>\n",
              "    <tr style=\"text-align: right;\">\n",
              "      <th></th>\n",
              "      <th>Postal Code</th>\n",
              "      <th>Borough</th>\n",
              "      <th>Neighbourhood</th>\n",
              "    </tr>\n",
              "  </thead>\n",
              "  <tbody>\n",
              "    <tr>\n",
              "      <th>3</th>\n",
              "      <td>M3A</td>\n",
              "      <td>North York</td>\n",
              "      <td>Parkwoods</td>\n",
              "    </tr>\n",
              "    <tr>\n",
              "      <th>4</th>\n",
              "      <td>M4A</td>\n",
              "      <td>North York</td>\n",
              "      <td>Victoria Village</td>\n",
              "    </tr>\n",
              "    <tr>\n",
              "      <th>5</th>\n",
              "      <td>M5A</td>\n",
              "      <td>Downtown Toronto</td>\n",
              "      <td>Regent Park, Harbourfront</td>\n",
              "    </tr>\n",
              "    <tr>\n",
              "      <th>6</th>\n",
              "      <td>M6A</td>\n",
              "      <td>North York</td>\n",
              "      <td>Lawrence Manor, Lawrence Heights</td>\n",
              "    </tr>\n",
              "    <tr>\n",
              "      <th>7</th>\n",
              "      <td>M7A</td>\n",
              "      <td>Downtown Toronto</td>\n",
              "      <td>Queen's Park, Ontario Provincial Government</td>\n",
              "    </tr>\n",
              "    <tr>\n",
              "      <th>...</th>\n",
              "      <td>...</td>\n",
              "      <td>...</td>\n",
              "      <td>...</td>\n",
              "    </tr>\n",
              "    <tr>\n",
              "      <th>161</th>\n",
              "      <td>M8X</td>\n",
              "      <td>Etobicoke</td>\n",
              "      <td>The Kingsway, Montgomery Road, Old Mill North</td>\n",
              "    </tr>\n",
              "    <tr>\n",
              "      <th>166</th>\n",
              "      <td>M4Y</td>\n",
              "      <td>Downtown Toronto</td>\n",
              "      <td>Church and Wellesley</td>\n",
              "    </tr>\n",
              "    <tr>\n",
              "      <th>169</th>\n",
              "      <td>M7Y</td>\n",
              "      <td>East Toronto</td>\n",
              "      <td>Business reply mail Processing Centre, South C...</td>\n",
              "    </tr>\n",
              "    <tr>\n",
              "      <th>170</th>\n",
              "      <td>M8Y</td>\n",
              "      <td>Etobicoke</td>\n",
              "      <td>Old Mill South, King's Mill Park, Sunnylea, Hu...</td>\n",
              "    </tr>\n",
              "    <tr>\n",
              "      <th>179</th>\n",
              "      <td>M8Z</td>\n",
              "      <td>Etobicoke</td>\n",
              "      <td>Mimico NW, The Queensway West, South of Bloor,...</td>\n",
              "    </tr>\n",
              "  </tbody>\n",
              "</table>\n",
              "<p>103 rows × 3 columns</p>\n",
              "</div>"
            ],
            "text/plain": [
              "    Postal Code  ...                                      Neighbourhood\n",
              "3           M3A  ...                                          Parkwoods\n",
              "4           M4A  ...                                   Victoria Village\n",
              "5           M5A  ...                          Regent Park, Harbourfront\n",
              "6           M6A  ...                   Lawrence Manor, Lawrence Heights\n",
              "7           M7A  ...        Queen's Park, Ontario Provincial Government\n",
              "..          ...  ...                                                ...\n",
              "161         M8X  ...      The Kingsway, Montgomery Road, Old Mill North\n",
              "166         M4Y  ...                               Church and Wellesley\n",
              "169         M7Y  ...  Business reply mail Processing Centre, South C...\n",
              "170         M8Y  ...  Old Mill South, King's Mill Park, Sunnylea, Hu...\n",
              "179         M8Z  ...  Mimico NW, The Queensway West, South of Bloor,...\n",
              "\n",
              "[103 rows x 3 columns]"
            ]
          },
          "metadata": {
            "tags": []
          },
          "execution_count": 5
        }
      ]
    },
    {
      "cell_type": "code",
      "metadata": {
        "id": "vdAuF6uR2vr8",
        "colab": {
          "base_uri": "https://localhost:8080/"
        },
        "outputId": "3334c438-e4ed-43bc-cbcb-920b1bfca64f"
      },
      "source": [
        "df_new.shape"
      ],
      "execution_count": 6,
      "outputs": [
        {
          "output_type": "execute_result",
          "data": {
            "text/plain": [
              "(103, 3)"
            ]
          },
          "metadata": {
            "tags": []
          },
          "execution_count": 6
        }
      ]
    },
    {
      "cell_type": "code",
      "metadata": {
        "colab": {
          "base_uri": "https://localhost:8080/"
        },
        "id": "kVHEQqzbOCAN",
        "outputId": "6f98c341-35e6-4557-d11a-b67ac3f2461b"
      },
      "source": [
        "!pip install geocoder\r\n",
        "\r\n",
        "import geocoder"
      ],
      "execution_count": 10,
      "outputs": [
        {
          "output_type": "stream",
          "text": [
            "Collecting geocoder\n",
            "\u001b[?25l  Downloading https://files.pythonhosted.org/packages/4f/6b/13166c909ad2f2d76b929a4227c952630ebaf0d729f6317eb09cbceccbab/geocoder-1.38.1-py2.py3-none-any.whl (98kB)\n",
            "\r\u001b[K     |███▎                            | 10kB 16.9MB/s eta 0:00:01\r\u001b[K     |██████▋                         | 20kB 21.4MB/s eta 0:00:01\r\u001b[K     |██████████                      | 30kB 15.6MB/s eta 0:00:01\r\u001b[K     |█████████████▎                  | 40kB 10.2MB/s eta 0:00:01\r\u001b[K     |████████████████▋               | 51kB 4.3MB/s eta 0:00:01\r\u001b[K     |████████████████████            | 61kB 4.9MB/s eta 0:00:01\r\u001b[K     |███████████████████████▎        | 71kB 5.4MB/s eta 0:00:01\r\u001b[K     |██████████████████████████▋     | 81kB 5.5MB/s eta 0:00:01\r\u001b[K     |██████████████████████████████  | 92kB 5.7MB/s eta 0:00:01\r\u001b[K     |████████████████████████████████| 102kB 3.3MB/s \n",
            "\u001b[?25hRequirement already satisfied: click in /usr/local/lib/python3.6/dist-packages (from geocoder) (7.1.2)\n",
            "Requirement already satisfied: six in /usr/local/lib/python3.6/dist-packages (from geocoder) (1.15.0)\n",
            "Requirement already satisfied: requests in /usr/local/lib/python3.6/dist-packages (from geocoder) (2.23.0)\n",
            "Requirement already satisfied: future in /usr/local/lib/python3.6/dist-packages (from geocoder) (0.16.0)\n",
            "Collecting ratelim\n",
            "  Downloading https://files.pythonhosted.org/packages/f2/98/7e6d147fd16a10a5f821db6e25f192265d6ecca3d82957a4fdd592cad49c/ratelim-0.1.6-py2.py3-none-any.whl\n",
            "Requirement already satisfied: urllib3!=1.25.0,!=1.25.1,<1.26,>=1.21.1 in /usr/local/lib/python3.6/dist-packages (from requests->geocoder) (1.24.3)\n",
            "Requirement already satisfied: chardet<4,>=3.0.2 in /usr/local/lib/python3.6/dist-packages (from requests->geocoder) (3.0.4)\n",
            "Requirement already satisfied: idna<3,>=2.5 in /usr/local/lib/python3.6/dist-packages (from requests->geocoder) (2.10)\n",
            "Requirement already satisfied: certifi>=2017.4.17 in /usr/local/lib/python3.6/dist-packages (from requests->geocoder) (2020.11.8)\n",
            "Requirement already satisfied: decorator in /usr/local/lib/python3.6/dist-packages (from ratelim->geocoder) (4.4.2)\n",
            "Installing collected packages: ratelim, geocoder\n",
            "Successfully installed geocoder-1.38.1 ratelim-0.1.6\n"
          ],
          "name": "stdout"
        }
      ]
    },
    {
      "cell_type": "markdown",
      "metadata": {
        "id": "RKclL_imUT_w"
      },
      "source": [
        "### Using geocoder to obtain coordinates of the postal codes"
      ]
    },
    {
      "cell_type": "code",
      "metadata": {
        "colab": {
          "base_uri": "https://localhost:8080/"
        },
        "id": "LzwbL_0JG6dp",
        "outputId": "20d8c7a7-84a7-4fb7-df38-6db5a9d783f3"
      },
      "source": [
        "latitude=[]\r\n",
        "longitude=[]\r\n",
        "for code in df_new['Postal Code']:\r\n",
        "    g = geocoder.arcgis('{}, Toronto, Ontario'.format(code))\r\n",
        "    print(code, g.latlng)\r\n",
        "    while (g.latlng is None):\r\n",
        "        g = geocoder.arcgis('{}, Toronto, Ontario'.format(code))\r\n",
        "        print(code, g.latlng)\r\n",
        "    latlng = g.latlng\r\n",
        "    latitude.append(latlng[0])\r\n",
        "    longitude.append(latlng[1])"
      ],
      "execution_count": 11,
      "outputs": [
        {
          "output_type": "stream",
          "text": [
            "M3A [43.75245000000007, -79.32990999999998]\n",
            "M4A [43.73057000000006, -79.31305999999995]\n",
            "M5A [43.65512000000007, -79.36263999999994]\n",
            "M6A [43.72327000000007, -79.45041999999995]\n",
            "M7A [43.66253000000006, -79.39187999999996]\n",
            "M9A [43.662630000000036, -79.52830999999998]\n",
            "M1B [43.811390000000074, -79.19661999999994]\n",
            "M3B [43.74923000000007, -79.36185999999998]\n",
            "M4B [43.70718000000005, -79.31191999999999]\n",
            "M5B [43.65739000000008, -79.37803999999994]\n",
            "M6B [43.70687000000004, -79.44811999999996]\n",
            "M9B [43.65034000000003, -79.55361999999997]\n",
            "M1C [43.78574000000003, -79.15874999999994]\n",
            "M3C [43.72168000000005, -79.34351999999996]\n",
            "M4C [43.68970000000007, -79.30681999999996]\n",
            "M5C [43.65215000000006, -79.37586999999996]\n",
            "M6C [43.69211000000007, -79.43035999999995]\n",
            "M9C [43.64857000000006, -79.57824999999997]\n",
            "M1E [43.765750000000025, -79.17469999999997]\n",
            "M4E [43.67709000000008, -79.29546999999997]\n",
            "M5E [43.64536000000004, -79.37305999999995]\n",
            "M6E [43.68784000000005, -79.45045999999996]\n",
            "M1G [43.76812000000007, -79.21760999999998]\n",
            "M4G [43.709020000000066, -79.36348999999996]\n",
            "M5G [43.65609000000006, -79.38492999999994]\n",
            "M6G [43.668690000000026, -79.42070999999999]\n",
            "M1H [43.76944000000003, -79.23891999999995]\n",
            "M2H [43.80225000000007, -79.35557999999997]\n",
            "M3H [43.75788000000006, -79.44846999999999]\n",
            "M4H [43.70142000000004, -79.34904999999998]\n",
            "M5H [43.64970000000005, -79.38257999999996]\n",
            "M6H [43.665050000000065, -79.43890999999996]\n",
            "M1J [43.74446000000006, -79.23116999999996]\n",
            "M2J [43.780970000000025, -79.34780999999998]\n",
            "M3J [43.76476000000008, -79.48797999999994]\n",
            "M4J [43.68811000000005, -79.33417999999995]\n",
            "M5J [43.64285000000007, -79.38075999999995]\n",
            "M6J [43.64848000000006, -79.41773999999998]\n",
            "M1K [43.725820000000056, -79.26460999999995]\n",
            "M2K [43.781120000000044, -79.38059999999996]\n",
            "M3K [43.73384000000004, -79.46827999999994]\n",
            "M4K [43.68375000000003, -79.35511999999994]\n",
            "M5K [43.64710000000008, -79.38152999999994]\n",
            "M6K [43.639410000000055, -79.42675999999994]\n",
            "M1L [43.71289000000007, -79.28505999999999]\n",
            "M2L [43.756980000000055, -79.38059999999996]\n",
            "M3L [43.720710000000054, -79.51700999999997]\n",
            "M4L [43.667970000000025, -79.31466999999998]\n",
            "M5L [43.64840000000004, -79.37913999999995]\n",
            "M6L [43.71381000000008, -79.48873999999995]\n",
            "M9L [43.75948000000005, -79.55706999999995]\n",
            "M1M [43.72360000000003, -79.23495999999994]\n",
            "M2M [43.79182000000003, -79.41371999999996]\n",
            "M3M [43.73224000000005, -79.50177999999994]\n",
            "M4M [43.66213000000005, -79.33496999999994]\n",
            "M5M [43.73545000000007, -79.41915999999998]\n",
            "M6M [43.695170000000076, -79.48396999999994]\n",
            "M9M [43.733670000000075, -79.53768999999994]\n",
            "M1N [43.695100000000025, -79.26465999999994]\n",
            "M2N [43.76774000000006, -79.40727999999996]\n",
            "M3N [43.75478000000004, -79.51958999999994]\n",
            "M4N [43.72843000000006, -79.38712999999996]\n",
            "M5N [43.71208000000007, -79.41847999999999]\n",
            "M6N [43.67646000000008, -79.48271999999997]\n",
            "M9N [43.705070000000035, -79.51803999999998]\n",
            "M1P [43.75998000000004, -79.26939999999996]\n",
            "M2P [43.747780000000034, -79.40032999999994]\n",
            "M4P [43.71276000000006, -79.38850999999994]\n",
            "M5P [43.69479000000007, -79.41439999999994]\n",
            "M6P [43.659730000000025, -79.46280999999993]\n",
            "M9P [43.696300000000065, -79.52925999999997]\n",
            "M1R [43.75075000000004, -79.30053999999996]\n",
            "M2R [43.77989000000008, -79.44677999999999]\n",
            "M4R [43.71458000000007, -79.40667999999994]\n",
            "M5R [43.674840000000074, -79.40451999999993]\n",
            "M6R [43.64777000000004, -79.44988999999998]\n",
            "M7R [43.648690000000045, -79.38543999999996]\n",
            "M9R [43.68681000000004, -79.55727999999993]\n",
            "M1S [43.794520000000034, -79.26707999999996]\n",
            "M4S [43.703400000000045, -79.38658999999996]\n",
            "M5S [43.663110000000074, -79.40179999999998]\n",
            "M6S [43.649820000000034, -79.47547999999995]\n",
            "M1T [43.784910000000025, -79.29721999999998]\n",
            "M4T [43.690480000000036, -79.38317999999998]\n",
            "M5T [43.65351000000004, -79.39721999999995]\n",
            "M1V [43.817810000000065, -79.28043999999994]\n",
            "M4V [43.68568000000005, -79.40236999999996]\n",
            "M5V [43.640820000000076, -79.39817999999997]\n",
            "M8V [43.60987000000006, -79.49808999999993]\n",
            "M9V [43.744530000000054, -79.58623999999998]\n",
            "M1W [43.80079000000006, -79.32161999999994]\n",
            "M4W [43.68190000000004, -79.37828999999994]\n",
            "M5W [43.648690000000045, -79.38543999999996]\n",
            "M8W [43.601240000000075, -79.53878999999995]\n",
            "M9W [43.71174000000008, -79.57940999999994]\n",
            "M1X [43.83412000000004, -79.21667999999994]\n",
            "M4X [43.667880000000025, -79.36648999999994]\n",
            "M5X [43.64828000000006, -79.38145999999995]\n",
            "M8X [43.65319000000005, -79.51112999999998]\n",
            "M4Y [43.66659000000004, -79.38132999999993]\n",
            "M7Y [43.648690000000045, -79.38543999999996]\n",
            "M8Y [43.632780000000025, -79.48944999999998]\n",
            "M8Z [43.62513000000007, -79.52680999999995]\n"
          ],
          "name": "stdout"
        }
      ]
    },
    {
      "cell_type": "markdown",
      "metadata": {
        "id": "7G3vKRAKUSuG"
      },
      "source": [
        " Converting the coordinates lists into a dataframe"
      ]
    },
    {
      "cell_type": "code",
      "metadata": {
        "colab": {
          "base_uri": "https://localhost:8080/",
          "height": 195
        },
        "id": "ymu1kGeGNW83",
        "outputId": "f0629ff4-281f-4e8d-fd13-d42984a510cd"
      },
      "source": [
        "coord_data = [latitude, longitude] \r\n",
        "coord_labels = ['Latitude', 'Longitude']\r\n",
        "coord_df = pd.DataFrame(coord_data).T\r\n",
        "coord_df.columns = coord_labels\r\n",
        "coord_df.head()"
      ],
      "execution_count": 25,
      "outputs": [
        {
          "output_type": "execute_result",
          "data": {
            "text/html": [
              "<div>\n",
              "<style scoped>\n",
              "    .dataframe tbody tr th:only-of-type {\n",
              "        vertical-align: middle;\n",
              "    }\n",
              "\n",
              "    .dataframe tbody tr th {\n",
              "        vertical-align: top;\n",
              "    }\n",
              "\n",
              "    .dataframe thead th {\n",
              "        text-align: right;\n",
              "    }\n",
              "</style>\n",
              "<table border=\"1\" class=\"dataframe\">\n",
              "  <thead>\n",
              "    <tr style=\"text-align: right;\">\n",
              "      <th></th>\n",
              "      <th>Latitude</th>\n",
              "      <th>Longitude</th>\n",
              "    </tr>\n",
              "  </thead>\n",
              "  <tbody>\n",
              "    <tr>\n",
              "      <th>0</th>\n",
              "      <td>43.75245</td>\n",
              "      <td>-79.32991</td>\n",
              "    </tr>\n",
              "    <tr>\n",
              "      <th>1</th>\n",
              "      <td>43.73057</td>\n",
              "      <td>-79.31306</td>\n",
              "    </tr>\n",
              "    <tr>\n",
              "      <th>2</th>\n",
              "      <td>43.65512</td>\n",
              "      <td>-79.36264</td>\n",
              "    </tr>\n",
              "    <tr>\n",
              "      <th>3</th>\n",
              "      <td>43.72327</td>\n",
              "      <td>-79.45042</td>\n",
              "    </tr>\n",
              "    <tr>\n",
              "      <th>4</th>\n",
              "      <td>43.66253</td>\n",
              "      <td>-79.39188</td>\n",
              "    </tr>\n",
              "  </tbody>\n",
              "</table>\n",
              "</div>"
            ],
            "text/plain": [
              "   Latitude  Longitude\n",
              "0  43.75245  -79.32991\n",
              "1  43.73057  -79.31306\n",
              "2  43.65512  -79.36264\n",
              "3  43.72327  -79.45042\n",
              "4  43.66253  -79.39188"
            ]
          },
          "metadata": {
            "tags": []
          },
          "execution_count": 25
        }
      ]
    },
    {
      "cell_type": "markdown",
      "metadata": {
        "id": "EfGYKX1bURpo"
      },
      "source": [
        "Adding the coordinates dataframe to the original dataframe"
      ]
    },
    {
      "cell_type": "code",
      "metadata": {
        "colab": {
          "base_uri": "https://localhost:8080/",
          "height": 402
        },
        "id": "HyyyI6P2Ptsg",
        "outputId": "d5e844fb-9bbb-46a4-9f09-c213f2ca8a57"
      },
      "source": [
        "df_cnd = pd.concat([df_new, coord_df], axis=1)\r\n",
        "df_cnd"
      ],
      "execution_count": 45,
      "outputs": [
        {
          "output_type": "execute_result",
          "data": {
            "text/html": [
              "<div>\n",
              "<style scoped>\n",
              "    .dataframe tbody tr th:only-of-type {\n",
              "        vertical-align: middle;\n",
              "    }\n",
              "\n",
              "    .dataframe tbody tr th {\n",
              "        vertical-align: top;\n",
              "    }\n",
              "\n",
              "    .dataframe thead th {\n",
              "        text-align: right;\n",
              "    }\n",
              "</style>\n",
              "<table border=\"1\" class=\"dataframe\">\n",
              "  <thead>\n",
              "    <tr style=\"text-align: right;\">\n",
              "      <th></th>\n",
              "      <th>Postal Code</th>\n",
              "      <th>Borough</th>\n",
              "      <th>Neighbourhood</th>\n",
              "      <th>Latitude</th>\n",
              "      <th>Longitude</th>\n",
              "    </tr>\n",
              "  </thead>\n",
              "  <tbody>\n",
              "    <tr>\n",
              "      <th>0</th>\n",
              "      <td>NaN</td>\n",
              "      <td>NaN</td>\n",
              "      <td>NaN</td>\n",
              "      <td>43.75245</td>\n",
              "      <td>-79.32991</td>\n",
              "    </tr>\n",
              "    <tr>\n",
              "      <th>1</th>\n",
              "      <td>NaN</td>\n",
              "      <td>NaN</td>\n",
              "      <td>NaN</td>\n",
              "      <td>43.73057</td>\n",
              "      <td>-79.31306</td>\n",
              "    </tr>\n",
              "    <tr>\n",
              "      <th>2</th>\n",
              "      <td>NaN</td>\n",
              "      <td>NaN</td>\n",
              "      <td>NaN</td>\n",
              "      <td>43.65512</td>\n",
              "      <td>-79.36264</td>\n",
              "    </tr>\n",
              "    <tr>\n",
              "      <th>3</th>\n",
              "      <td>M3A</td>\n",
              "      <td>North York</td>\n",
              "      <td>Parkwoods</td>\n",
              "      <td>43.72327</td>\n",
              "      <td>-79.45042</td>\n",
              "    </tr>\n",
              "    <tr>\n",
              "      <th>4</th>\n",
              "      <td>M4A</td>\n",
              "      <td>North York</td>\n",
              "      <td>Victoria Village</td>\n",
              "      <td>43.66253</td>\n",
              "      <td>-79.39188</td>\n",
              "    </tr>\n",
              "    <tr>\n",
              "      <th>...</th>\n",
              "      <td>...</td>\n",
              "      <td>...</td>\n",
              "      <td>...</td>\n",
              "      <td>...</td>\n",
              "      <td>...</td>\n",
              "    </tr>\n",
              "    <tr>\n",
              "      <th>161</th>\n",
              "      <td>M8X</td>\n",
              "      <td>Etobicoke</td>\n",
              "      <td>The Kingsway, Montgomery Road, Old Mill North</td>\n",
              "      <td>NaN</td>\n",
              "      <td>NaN</td>\n",
              "    </tr>\n",
              "    <tr>\n",
              "      <th>166</th>\n",
              "      <td>M4Y</td>\n",
              "      <td>Downtown Toronto</td>\n",
              "      <td>Church and Wellesley</td>\n",
              "      <td>NaN</td>\n",
              "      <td>NaN</td>\n",
              "    </tr>\n",
              "    <tr>\n",
              "      <th>169</th>\n",
              "      <td>M7Y</td>\n",
              "      <td>East Toronto</td>\n",
              "      <td>Business reply mail Processing Centre, South C...</td>\n",
              "      <td>NaN</td>\n",
              "      <td>NaN</td>\n",
              "    </tr>\n",
              "    <tr>\n",
              "      <th>170</th>\n",
              "      <td>M8Y</td>\n",
              "      <td>Etobicoke</td>\n",
              "      <td>Old Mill South, King's Mill Park, Sunnylea, Hu...</td>\n",
              "      <td>NaN</td>\n",
              "      <td>NaN</td>\n",
              "    </tr>\n",
              "    <tr>\n",
              "      <th>179</th>\n",
              "      <td>M8Z</td>\n",
              "      <td>Etobicoke</td>\n",
              "      <td>Mimico NW, The Queensway West, South of Bloor,...</td>\n",
              "      <td>NaN</td>\n",
              "      <td>NaN</td>\n",
              "    </tr>\n",
              "  </tbody>\n",
              "</table>\n",
              "<p>139 rows × 5 columns</p>\n",
              "</div>"
            ],
            "text/plain": [
              "    Postal Code           Borough  ...  Latitude  Longitude\n",
              "0           NaN               NaN  ...  43.75245  -79.32991\n",
              "1           NaN               NaN  ...  43.73057  -79.31306\n",
              "2           NaN               NaN  ...  43.65512  -79.36264\n",
              "3           M3A        North York  ...  43.72327  -79.45042\n",
              "4           M4A        North York  ...  43.66253  -79.39188\n",
              "..          ...               ...  ...       ...        ...\n",
              "161         M8X         Etobicoke  ...       NaN        NaN\n",
              "166         M4Y  Downtown Toronto  ...       NaN        NaN\n",
              "169         M7Y      East Toronto  ...       NaN        NaN\n",
              "170         M8Y         Etobicoke  ...       NaN        NaN\n",
              "179         M8Z         Etobicoke  ...       NaN        NaN\n",
              "\n",
              "[139 rows x 5 columns]"
            ]
          },
          "metadata": {
            "tags": []
          },
          "execution_count": 45
        }
      ]
    },
    {
      "cell_type": "markdown",
      "metadata": {
        "id": "8Ipu2xjyUQgr"
      },
      "source": [
        "Dropping all empty rows"
      ]
    },
    {
      "cell_type": "code",
      "metadata": {
        "colab": {
          "base_uri": "https://localhost:8080/",
          "height": 195
        },
        "id": "Vnl2TqSpRn5X",
        "outputId": "8d8101f9-dd05-40ba-93d5-10b31c0997e8"
      },
      "source": [
        "df_cnd.dropna(inplace=True)\r\n",
        "df_cnd.shape\r\n",
        "df_cnd.head()"
      ],
      "execution_count": 49,
      "outputs": [
        {
          "output_type": "execute_result",
          "data": {
            "text/html": [
              "<div>\n",
              "<style scoped>\n",
              "    .dataframe tbody tr th:only-of-type {\n",
              "        vertical-align: middle;\n",
              "    }\n",
              "\n",
              "    .dataframe tbody tr th {\n",
              "        vertical-align: top;\n",
              "    }\n",
              "\n",
              "    .dataframe thead th {\n",
              "        text-align: right;\n",
              "    }\n",
              "</style>\n",
              "<table border=\"1\" class=\"dataframe\">\n",
              "  <thead>\n",
              "    <tr style=\"text-align: right;\">\n",
              "      <th></th>\n",
              "      <th>Postal Code</th>\n",
              "      <th>Borough</th>\n",
              "      <th>Neighbourhood</th>\n",
              "      <th>Latitude</th>\n",
              "      <th>Longitude</th>\n",
              "    </tr>\n",
              "  </thead>\n",
              "  <tbody>\n",
              "    <tr>\n",
              "      <th>3</th>\n",
              "      <td>M3A</td>\n",
              "      <td>North York</td>\n",
              "      <td>Parkwoods</td>\n",
              "      <td>43.72327</td>\n",
              "      <td>-79.45042</td>\n",
              "    </tr>\n",
              "    <tr>\n",
              "      <th>4</th>\n",
              "      <td>M4A</td>\n",
              "      <td>North York</td>\n",
              "      <td>Victoria Village</td>\n",
              "      <td>43.66253</td>\n",
              "      <td>-79.39188</td>\n",
              "    </tr>\n",
              "    <tr>\n",
              "      <th>5</th>\n",
              "      <td>M5A</td>\n",
              "      <td>Downtown Toronto</td>\n",
              "      <td>Regent Park, Harbourfront</td>\n",
              "      <td>43.66263</td>\n",
              "      <td>-79.52831</td>\n",
              "    </tr>\n",
              "    <tr>\n",
              "      <th>6</th>\n",
              "      <td>M6A</td>\n",
              "      <td>North York</td>\n",
              "      <td>Lawrence Manor, Lawrence Heights</td>\n",
              "      <td>43.81139</td>\n",
              "      <td>-79.19662</td>\n",
              "    </tr>\n",
              "    <tr>\n",
              "      <th>7</th>\n",
              "      <td>M7A</td>\n",
              "      <td>Downtown Toronto</td>\n",
              "      <td>Queen's Park, Ontario Provincial Government</td>\n",
              "      <td>43.74923</td>\n",
              "      <td>-79.36186</td>\n",
              "    </tr>\n",
              "  </tbody>\n",
              "</table>\n",
              "</div>"
            ],
            "text/plain": [
              "  Postal Code           Borough  ...  Latitude  Longitude\n",
              "3         M3A        North York  ...  43.72327  -79.45042\n",
              "4         M4A        North York  ...  43.66253  -79.39188\n",
              "5         M5A  Downtown Toronto  ...  43.66263  -79.52831\n",
              "6         M6A        North York  ...  43.81139  -79.19662\n",
              "7         M7A  Downtown Toronto  ...  43.74923  -79.36186\n",
              "\n",
              "[5 rows x 5 columns]"
            ]
          },
          "metadata": {
            "tags": []
          },
          "execution_count": 49
        }
      ]
    }
  ]
}