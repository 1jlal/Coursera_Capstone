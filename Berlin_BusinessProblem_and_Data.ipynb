{
  "nbformat": 4,
  "nbformat_minor": 0,
  "metadata": {
    "colab": {
      "name": "Berlin_BusinessProblem_and_Data.ipynb",
      "provenance": [],
      "collapsed_sections": [],
      "authorship_tag": "ABX9TyNNsbHgmTTl8P/9yc0UgC30",
      "include_colab_link": true
    },
    "kernelspec": {
      "name": "python3",
      "display_name": "Python 3"
    }
  },
  "cells": [
    {
      "cell_type": "markdown",
      "metadata": {
        "id": "view-in-github",
        "colab_type": "text"
      },
      "source": [
        "<a href=\"https://colab.research.google.com/github/1jlal/Coursera_Capstone/blob/master/Berlin_BusinessProblem_and_Data.ipynb\" target=\"_parent\"><img src=\"https://colab.research.google.com/assets/colab-badge.svg\" alt=\"Open In Colab\"/></a>"
      ]
    },
    {
      "cell_type": "markdown",
      "metadata": {
        "id": "CcWg1fHj2b0P"
      },
      "source": [
        "# Introduction/Business Problem"
      ]
    },
    {
      "cell_type": "markdown",
      "metadata": {
        "id": "ClDOs9RC2guh"
      },
      "source": [
        "Berlin is the capital of Germany and is a fast-paced city full of digital innovation and entrepreneurship. An investor looking to invest in an up and coming business, is looking for an area for business activities with the following attributes:\r\n",
        "\r\n",
        "1.   Buzzing with people, for visibility and accessibility\r\n",
        "2.   Safety\r\n",
        "3.   Close to the city center\r\n",
        "4.   Social activities\r\n",
        "\r\n",
        "With these attributes in mind, we'll try to carry out a generalized analysis for Berlin which gives our client an overview of Berlin and help him make an informed decision to choose a place for his office. Since we have certain amenities and social activities to consider, we will leverage the Foursquare API to our advantage to get local venues available in the different neighbourhoods of Berlin."
      ]
    },
    {
      "cell_type": "markdown",
      "metadata": {
        "id": "fuRo0mqJ6F78"
      },
      "source": [
        "# Data"
      ]
    },
    {
      "cell_type": "markdown",
      "metadata": {
        "id": "2iBripHk6Mt_"
      },
      "source": [
        "We'll be using a variety of Data sources for this analysis. Their general use purpose is mentioned along with their source below.\r\n",
        "\r\n",
        "\r\n",
        "\r\n",
        "*   Github Repository consisting of GeoData files for Berlin:\r\n",
        "    (https://github.com/funkeinteraktiv/Berlin-Geodaten)\r\n",
        "*   Boroughs and neighborhoods of Berlin:\r\n",
        "    (https://en.wikipedia.org/wiki/Boroughs_and_neighborhoods_of_Berlin#Boroughs)\r\n",
        "\r\n",
        "*   For collecting venues of Berlin:\r\n",
        "    (https://foursquare.com)\r\n",
        "\r\n",
        "*   Crime Dataset of Berlin from Kaggle:\r\n",
        "    (https://https://www.kaggle.com/danilzyryanov/crime-in-berlin-2012-2019)\r\n",
        "\r\n",
        "\r\n",
        "\r\n",
        "\r\n",
        "\r\n"
      ]
    },
    {
      "cell_type": "markdown",
      "metadata": {
        "id": "a3UC9SAx7_ti"
      },
      "source": [
        "Using these data sources we'll be able to get a variety of useful statistics about Berlin like locations with high crime-rates, high populations, etc. Furthermore, we'll then evaluate point of interests using the Foursquare Location API to see if it suits our needs. Lastly, we'll group areas into clusters to see how the neighbourhoods differ from one another."
      ]
    },
    {
      "cell_type": "code",
      "metadata": {
        "id": "jojpzBKg9Aej"
      },
      "source": [
        ""
      ],
      "execution_count": null,
      "outputs": []
    }
  ]
}