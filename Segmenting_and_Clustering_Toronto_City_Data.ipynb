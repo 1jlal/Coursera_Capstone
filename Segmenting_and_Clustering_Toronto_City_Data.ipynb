{
  "nbformat": 4,
  "nbformat_minor": 0,
  "metadata": {
    "colab": {
      "name": "Segmenting and Clustering Toronto City Data.ipynb",
      "provenance": [],
      "collapsed_sections": [],
      "authorship_tag": "ABX9TyMXj6ARXEGdMbKDob2OnsA3",
      "include_colab_link": true
    },
    "kernelspec": {
      "name": "python3",
      "display_name": "Python 3"
    }
  },
  "cells": [
    {
      "cell_type": "markdown",
      "metadata": {
        "id": "view-in-github",
        "colab_type": "text"
      },
      "source": [
        "<a href=\"https://colab.research.google.com/github/1jlal/Coursera_Capstone/blob/master/Segmenting_and_Clustering_Toronto_City_Data.ipynb\" target=\"_parent\"><img src=\"https://colab.research.google.com/assets/colab-badge.svg\" alt=\"Open In Colab\"/></a>"
      ]
    },
    {
      "cell_type": "markdown",
      "metadata": {
        "id": "qH14b_UhN7ON"
      },
      "source": [
        "# **Segmenting and Clustering Toronto Neighborhoods Data**\r\n",
        "---\r\n",
        "\r\n"
      ]
    },
    {
      "cell_type": "markdown",
      "metadata": {
        "id": "P7XfXgFAN7FP"
      },
      "source": [
        ""
      ]
    },
    {
      "cell_type": "markdown",
      "metadata": {
        "id": "4OcFhyIbNwdF"
      },
      "source": [
        "# _ Part 1 _\r\n",
        "\r\n"
      ]
    },
    {
      "cell_type": "code",
      "metadata": {
        "colab": {
          "base_uri": "https://localhost:8080/"
        },
        "id": "p-WdWetTNKx0",
        "outputId": "c474680a-4d1d-44ea-8913-e998cf8d9fea"
      },
      "source": [
        "import requests\r\n",
        "from bs4 import BeautifulSoup as bs\r\n",
        "import numpy as np\r\n",
        "\r\n",
        "import pandas as pd # library for data analsysis\r\n",
        "pd.set_option('display.max_columns', None)\r\n",
        "pd.set_option('display.max_rows', None)\r\n",
        "\r\n",
        "import json # library to handle JSON files\r\n",
        "\r\n",
        "# !conda install -c conda-forge geopy --yes\r\n",
        "from geopy.geocoders import Nominatim # convert an address into latitude and longitude values\r\n",
        "\r\n",
        "import requests # library to handle requests\r\n",
        "from pandas import json_normalize # tranform JSON file into a pandas dataframe\r\n",
        "\r\n",
        "# Matplotlib and associated plotting modules\r\n",
        "import matplotlib.cm as cm\r\n",
        "import matplotlib.colors as colors\r\n",
        "\r\n",
        "# import k-means from clustering stage\r\n",
        "from sklearn.cluster import KMeans\r\n",
        "\r\n",
        "# !conda install -c conda-forge folium --yes\r\n",
        "import folium # map rendering library\r\n",
        "\r\n",
        "print('Libraries imported.')"
      ],
      "execution_count": 2,
      "outputs": [
        {
          "output_type": "stream",
          "text": [
            "Libraries imported.\n"
          ],
          "name": "stdout"
        }
      ]
    },
    {
      "cell_type": "markdown",
      "metadata": {
        "id": "HfLUSVIhN5ua"
      },
      "source": [
        "### Scraping Toronto postal codes table from wikipedia page using BeautifulSoup library and converting it into a pandas DataFrame"
      ]
    },
    {
      "cell_type": "code",
      "metadata": {
        "colab": {
          "base_uri": "https://localhost:8080/",
          "height": 195
        },
        "id": "A7CvvBNjNSF7",
        "outputId": "0b2a9d86-7904-4de4-8ce8-b1d4277797c4"
      },
      "source": [
        "r = requests.get('https://en.wikipedia.org/wiki/List_of_postal_codes_of_Canada:_M')\r\n",
        "webpage = bs(r.content)\r\n",
        "\r\n",
        "table = webpage.select('table.wikitable')[0]\r\n",
        "# print(table)\r\n",
        "columns = table.find_all('th')\r\n",
        "column_names = [str(c.string).strip() for c in columns]\r\n",
        "# print(column_names)\r\n",
        "\r\n",
        "l = []\r\n",
        "table_rows = table.find('tbody').find_all('tr')\r\n",
        "\r\n",
        "for tr in table_rows:\r\n",
        "    td = tr.find_all('td')\r\n",
        "    row = [str(tr.string).strip() for tr in td]\r\n",
        "    l.append(row)\r\n",
        "# print(l[0:10])\r\n",
        "\r\n",
        "df = pd.DataFrame(l, columns=column_names)\r\n",
        "\r\n",
        "df.head()"
      ],
      "execution_count": 3,
      "outputs": [
        {
          "output_type": "execute_result",
          "data": {
            "text/html": [
              "<div>\n",
              "<style scoped>\n",
              "    .dataframe tbody tr th:only-of-type {\n",
              "        vertical-align: middle;\n",
              "    }\n",
              "\n",
              "    .dataframe tbody tr th {\n",
              "        vertical-align: top;\n",
              "    }\n",
              "\n",
              "    .dataframe thead th {\n",
              "        text-align: right;\n",
              "    }\n",
              "</style>\n",
              "<table border=\"1\" class=\"dataframe\">\n",
              "  <thead>\n",
              "    <tr style=\"text-align: right;\">\n",
              "      <th></th>\n",
              "      <th>Postal Code</th>\n",
              "      <th>Borough</th>\n",
              "      <th>Neighbourhood</th>\n",
              "    </tr>\n",
              "  </thead>\n",
              "  <tbody>\n",
              "    <tr>\n",
              "      <th>0</th>\n",
              "      <td>None</td>\n",
              "      <td>None</td>\n",
              "      <td>None</td>\n",
              "    </tr>\n",
              "    <tr>\n",
              "      <th>1</th>\n",
              "      <td>M1A</td>\n",
              "      <td>Not assigned</td>\n",
              "      <td>Not assigned</td>\n",
              "    </tr>\n",
              "    <tr>\n",
              "      <th>2</th>\n",
              "      <td>M2A</td>\n",
              "      <td>Not assigned</td>\n",
              "      <td>Not assigned</td>\n",
              "    </tr>\n",
              "    <tr>\n",
              "      <th>3</th>\n",
              "      <td>M3A</td>\n",
              "      <td>North York</td>\n",
              "      <td>Parkwoods</td>\n",
              "    </tr>\n",
              "    <tr>\n",
              "      <th>4</th>\n",
              "      <td>M4A</td>\n",
              "      <td>North York</td>\n",
              "      <td>Victoria Village</td>\n",
              "    </tr>\n",
              "  </tbody>\n",
              "</table>\n",
              "</div>"
            ],
            "text/plain": [
              "  Postal Code       Borough     Neighbourhood\n",
              "0        None          None              None\n",
              "1         M1A  Not assigned      Not assigned\n",
              "2         M2A  Not assigned      Not assigned\n",
              "3         M3A    North York         Parkwoods\n",
              "4         M4A    North York  Victoria Village"
            ]
          },
          "metadata": {
            "tags": []
          },
          "execution_count": 3
        }
      ]
    },
    {
      "cell_type": "code",
      "metadata": {
        "colab": {
          "base_uri": "https://localhost:8080/",
          "height": 195
        },
        "id": "ruhDYe2DNfh2",
        "outputId": "675f6108-c213-42ac-dd6b-37f73010b6e0"
      },
      "source": [
        "df = df.drop(index=[0], axis=1)\r\n",
        "df.reset_index(drop=True)\r\n",
        "df.head()"
      ],
      "execution_count": 4,
      "outputs": [
        {
          "output_type": "execute_result",
          "data": {
            "text/html": [
              "<div>\n",
              "<style scoped>\n",
              "    .dataframe tbody tr th:only-of-type {\n",
              "        vertical-align: middle;\n",
              "    }\n",
              "\n",
              "    .dataframe tbody tr th {\n",
              "        vertical-align: top;\n",
              "    }\n",
              "\n",
              "    .dataframe thead th {\n",
              "        text-align: right;\n",
              "    }\n",
              "</style>\n",
              "<table border=\"1\" class=\"dataframe\">\n",
              "  <thead>\n",
              "    <tr style=\"text-align: right;\">\n",
              "      <th></th>\n",
              "      <th>Postal Code</th>\n",
              "      <th>Borough</th>\n",
              "      <th>Neighbourhood</th>\n",
              "    </tr>\n",
              "  </thead>\n",
              "  <tbody>\n",
              "    <tr>\n",
              "      <th>1</th>\n",
              "      <td>M1A</td>\n",
              "      <td>Not assigned</td>\n",
              "      <td>Not assigned</td>\n",
              "    </tr>\n",
              "    <tr>\n",
              "      <th>2</th>\n",
              "      <td>M2A</td>\n",
              "      <td>Not assigned</td>\n",
              "      <td>Not assigned</td>\n",
              "    </tr>\n",
              "    <tr>\n",
              "      <th>3</th>\n",
              "      <td>M3A</td>\n",
              "      <td>North York</td>\n",
              "      <td>Parkwoods</td>\n",
              "    </tr>\n",
              "    <tr>\n",
              "      <th>4</th>\n",
              "      <td>M4A</td>\n",
              "      <td>North York</td>\n",
              "      <td>Victoria Village</td>\n",
              "    </tr>\n",
              "    <tr>\n",
              "      <th>5</th>\n",
              "      <td>M5A</td>\n",
              "      <td>Downtown Toronto</td>\n",
              "      <td>Regent Park, Harbourfront</td>\n",
              "    </tr>\n",
              "  </tbody>\n",
              "</table>\n",
              "</div>"
            ],
            "text/plain": [
              "  Postal Code           Borough              Neighbourhood\n",
              "1         M1A      Not assigned               Not assigned\n",
              "2         M2A      Not assigned               Not assigned\n",
              "3         M3A        North York                  Parkwoods\n",
              "4         M4A        North York           Victoria Village\n",
              "5         M5A  Downtown Toronto  Regent Park, Harbourfront"
            ]
          },
          "metadata": {
            "tags": []
          },
          "execution_count": 4
        }
      ]
    },
    {
      "cell_type": "markdown",
      "metadata": {
        "id": "r9LXlXc8OoQ3"
      },
      "source": [
        "Removing all Boroughs from dataframe with no labels"
      ]
    },
    {
      "cell_type": "code",
      "metadata": {
        "colab": {
          "base_uri": "https://localhost:8080/"
        },
        "id": "Z1juXiSlNien",
        "outputId": "a6381f2a-7b8a-4aae-ab32-d666b1bd6bd2"
      },
      "source": [
        "df = df[df['Borough'] != 'Not assigned']\r\n",
        "\r\n",
        "df[df['Neighbourhood'] == 'Not assigned'].count()\r\n",
        "\r\n",
        "df.head()\r\n",
        "df.shape"
      ],
      "execution_count": 5,
      "outputs": [
        {
          "output_type": "execute_result",
          "data": {
            "text/plain": [
              "(103, 3)"
            ]
          },
          "metadata": {
            "tags": []
          },
          "execution_count": 5
        }
      ]
    },
    {
      "cell_type": "markdown",
      "metadata": {
        "id": "ipw4vkeCPIC5"
      },
      "source": [
        "# _ Part 2 _"
      ]
    },
    {
      "cell_type": "markdown",
      "metadata": {
        "id": "QFH9BipsPSe9"
      },
      "source": [
        "\r\n",
        "Using geocoder to obtain coordinates of the postal code doesn't function accurately. So we will skip this code and use the csv file instead"
      ]
    },
    {
      "cell_type": "code",
      "metadata": {
        "id": "heHnHemBOy7p"
      },
      "source": [
        "# '''\r\n",
        "# import geocoder\r\n",
        "# latitude=[]\r\n",
        "# longitude=[]\r\n",
        "# for code in df_new['Postal Code']:\r\n",
        "#     g = geocoder.arcgis('{}, Toronto, Ontario'.format(code))\r\n",
        "#     print(code, g.latlng)\r\n",
        "#     while (g.latlng is None):\r\n",
        "#         g = geocoder.arcgis('{}, Toronto, Ontario'.format(code))\r\n",
        "#         print(code, g.latlng)\r\n",
        "#     latlng = g.latlng\r\n",
        "#     latitude.append(latlng[0])\r\n",
        "#     longitude.append(latlng[1])\r\n",
        "    \r\n",
        "    \r\n",
        "# coord_data = [latitude, longitude] \r\n",
        "# coord_labels = ['Latitude', 'Longitude']\r\n",
        "# coord_df = pd.DataFrame(coord_data).T\r\n",
        "# coord_df.columns = coord_labels\r\n",
        "# coord_df.head()\r\n",
        "\r\n",
        "\r\n",
        "# df_cnd = pd.concat([df_new, coord_df], axis=1)\r\n",
        "# df_cnd\r\n",
        "\r\n",
        "# '''"
      ],
      "execution_count": 6,
      "outputs": []
    },
    {
      "cell_type": "markdown",
      "metadata": {
        "id": "Re_XxcrVPwJd"
      },
      "source": [
        "Extracting the geo coordinates from the csv file into a dataframe"
      ]
    },
    {
      "cell_type": "code",
      "metadata": {
        "colab": {
          "base_uri": "https://localhost:8080/",
          "height": 195
        },
        "id": "AgybkfyUPZRP",
        "outputId": "c0e2703e-5936-436d-b730-ccec44d6ebd6"
      },
      "source": [
        "# reading csv file into dataframe\r\n",
        "\r\n",
        "url='http://cocl.us/Geospatial_data'\r\n",
        "\r\n",
        "df_coord =pd.read_csv(url)\r\n",
        "df_coord.head()"
      ],
      "execution_count": 7,
      "outputs": [
        {
          "output_type": "execute_result",
          "data": {
            "text/html": [
              "<div>\n",
              "<style scoped>\n",
              "    .dataframe tbody tr th:only-of-type {\n",
              "        vertical-align: middle;\n",
              "    }\n",
              "\n",
              "    .dataframe tbody tr th {\n",
              "        vertical-align: top;\n",
              "    }\n",
              "\n",
              "    .dataframe thead th {\n",
              "        text-align: right;\n",
              "    }\n",
              "</style>\n",
              "<table border=\"1\" class=\"dataframe\">\n",
              "  <thead>\n",
              "    <tr style=\"text-align: right;\">\n",
              "      <th></th>\n",
              "      <th>Postal Code</th>\n",
              "      <th>Latitude</th>\n",
              "      <th>Longitude</th>\n",
              "    </tr>\n",
              "  </thead>\n",
              "  <tbody>\n",
              "    <tr>\n",
              "      <th>0</th>\n",
              "      <td>M1B</td>\n",
              "      <td>43.806686</td>\n",
              "      <td>-79.194353</td>\n",
              "    </tr>\n",
              "    <tr>\n",
              "      <th>1</th>\n",
              "      <td>M1C</td>\n",
              "      <td>43.784535</td>\n",
              "      <td>-79.160497</td>\n",
              "    </tr>\n",
              "    <tr>\n",
              "      <th>2</th>\n",
              "      <td>M1E</td>\n",
              "      <td>43.763573</td>\n",
              "      <td>-79.188711</td>\n",
              "    </tr>\n",
              "    <tr>\n",
              "      <th>3</th>\n",
              "      <td>M1G</td>\n",
              "      <td>43.770992</td>\n",
              "      <td>-79.216917</td>\n",
              "    </tr>\n",
              "    <tr>\n",
              "      <th>4</th>\n",
              "      <td>M1H</td>\n",
              "      <td>43.773136</td>\n",
              "      <td>-79.239476</td>\n",
              "    </tr>\n",
              "  </tbody>\n",
              "</table>\n",
              "</div>"
            ],
            "text/plain": [
              "  Postal Code   Latitude  Longitude\n",
              "0         M1B  43.806686 -79.194353\n",
              "1         M1C  43.784535 -79.160497\n",
              "2         M1E  43.763573 -79.188711\n",
              "3         M1G  43.770992 -79.216917\n",
              "4         M1H  43.773136 -79.239476"
            ]
          },
          "metadata": {
            "tags": []
          },
          "execution_count": 7
        }
      ]
    },
    {
      "cell_type": "markdown",
      "metadata": {
        "id": "mjbVGCGgP49a"
      },
      "source": [
        "Sorting data by postal code to merge the two dataframes together"
      ]
    },
    {
      "cell_type": "code",
      "metadata": {
        "colab": {
          "base_uri": "https://localhost:8080/",
          "height": 195
        },
        "id": "4L4ljTf_P2Wx",
        "outputId": "c3938609-88a3-430a-aea3-387b0151f5c0"
      },
      "source": [
        "df = df.sort_values('Postal Code')\r\n",
        "hoods = pd.merge(df, df_coord, how='right', on='Postal Code')\r\n",
        "hoods.head()"
      ],
      "execution_count": 8,
      "outputs": [
        {
          "output_type": "execute_result",
          "data": {
            "text/html": [
              "<div>\n",
              "<style scoped>\n",
              "    .dataframe tbody tr th:only-of-type {\n",
              "        vertical-align: middle;\n",
              "    }\n",
              "\n",
              "    .dataframe tbody tr th {\n",
              "        vertical-align: top;\n",
              "    }\n",
              "\n",
              "    .dataframe thead th {\n",
              "        text-align: right;\n",
              "    }\n",
              "</style>\n",
              "<table border=\"1\" class=\"dataframe\">\n",
              "  <thead>\n",
              "    <tr style=\"text-align: right;\">\n",
              "      <th></th>\n",
              "      <th>Postal Code</th>\n",
              "      <th>Borough</th>\n",
              "      <th>Neighbourhood</th>\n",
              "      <th>Latitude</th>\n",
              "      <th>Longitude</th>\n",
              "    </tr>\n",
              "  </thead>\n",
              "  <tbody>\n",
              "    <tr>\n",
              "      <th>0</th>\n",
              "      <td>M1B</td>\n",
              "      <td>Scarborough</td>\n",
              "      <td>Malvern, Rouge</td>\n",
              "      <td>43.806686</td>\n",
              "      <td>-79.194353</td>\n",
              "    </tr>\n",
              "    <tr>\n",
              "      <th>1</th>\n",
              "      <td>M1C</td>\n",
              "      <td>Scarborough</td>\n",
              "      <td>Rouge Hill, Port Union, Highland Creek</td>\n",
              "      <td>43.784535</td>\n",
              "      <td>-79.160497</td>\n",
              "    </tr>\n",
              "    <tr>\n",
              "      <th>2</th>\n",
              "      <td>M1E</td>\n",
              "      <td>Scarborough</td>\n",
              "      <td>Guildwood, Morningside, West Hill</td>\n",
              "      <td>43.763573</td>\n",
              "      <td>-79.188711</td>\n",
              "    </tr>\n",
              "    <tr>\n",
              "      <th>3</th>\n",
              "      <td>M1G</td>\n",
              "      <td>Scarborough</td>\n",
              "      <td>Woburn</td>\n",
              "      <td>43.770992</td>\n",
              "      <td>-79.216917</td>\n",
              "    </tr>\n",
              "    <tr>\n",
              "      <th>4</th>\n",
              "      <td>M1H</td>\n",
              "      <td>Scarborough</td>\n",
              "      <td>Cedarbrae</td>\n",
              "      <td>43.773136</td>\n",
              "      <td>-79.239476</td>\n",
              "    </tr>\n",
              "  </tbody>\n",
              "</table>\n",
              "</div>"
            ],
            "text/plain": [
              "  Postal Code      Borough                           Neighbourhood   Latitude  \\\n",
              "0         M1B  Scarborough                          Malvern, Rouge  43.806686   \n",
              "1         M1C  Scarborough  Rouge Hill, Port Union, Highland Creek  43.784535   \n",
              "2         M1E  Scarborough       Guildwood, Morningside, West Hill  43.763573   \n",
              "3         M1G  Scarborough                                  Woburn  43.770992   \n",
              "4         M1H  Scarborough                               Cedarbrae  43.773136   \n",
              "\n",
              "   Longitude  \n",
              "0 -79.194353  \n",
              "1 -79.160497  \n",
              "2 -79.188711  \n",
              "3 -79.216917  \n",
              "4 -79.239476  "
            ]
          },
          "metadata": {
            "tags": []
          },
          "execution_count": 8
        }
      ]
    },
    {
      "cell_type": "code",
      "metadata": {
        "colab": {
          "base_uri": "https://localhost:8080/"
        },
        "id": "oYqlVke4QZ0P",
        "outputId": "ecce3714-322b-4114-fd5f-083c22a2171e"
      },
      "source": [
        "hoods.shape"
      ],
      "execution_count": 9,
      "outputs": [
        {
          "output_type": "execute_result",
          "data": {
            "text/plain": [
              "(103, 5)"
            ]
          },
          "metadata": {
            "tags": []
          },
          "execution_count": 9
        }
      ]
    },
    {
      "cell_type": "markdown",
      "metadata": {
        "id": "XZZxPP7-QQrc"
      },
      "source": [
        "# _ Part 3 _"
      ]
    },
    {
      "cell_type": "markdown",
      "metadata": {
        "id": "RMprJm9xRCwj"
      },
      "source": [
        "Checking the number of Boroughs and neighborhoods"
      ]
    },
    {
      "cell_type": "code",
      "metadata": {
        "colab": {
          "base_uri": "https://localhost:8080/"
        },
        "id": "bMVF_udbQBpi",
        "outputId": "3f62fba7-9df3-41a9-ec36-60e731b3a3db"
      },
      "source": [
        "print('The dataframe has {} boroughs and {} neighborhoods.'.format(\r\n",
        "        len(hoods['Borough'].unique()),\r\n",
        "        hoods.shape[0]\r\n",
        "    )\r\n",
        ")"
      ],
      "execution_count": 10,
      "outputs": [
        {
          "output_type": "stream",
          "text": [
            "The dataframe has 10 boroughs and 103 neighborhoods.\n"
          ],
          "name": "stdout"
        }
      ]
    },
    {
      "cell_type": "markdown",
      "metadata": {
        "id": "eGZvAdOeRN-s"
      },
      "source": [
        "Use geopy library to get the latitude and longitude values of Toronto, Canada.\r\n"
      ]
    },
    {
      "cell_type": "code",
      "metadata": {
        "colab": {
          "base_uri": "https://localhost:8080/"
        },
        "id": "mNr1XNAYRBIj",
        "outputId": "e696785a-66eb-45db-dcf5-4a9c4799ad7b"
      },
      "source": [
        "address = 'Toronto, CN'\r\n",
        "\r\n",
        "geolocator = Nominatim(user_agent=\"CN_explorer\")\r\n",
        "location = geolocator.geocode(address)\r\n",
        "latitude = location.latitude\r\n",
        "longitude = location.longitude\r\n",
        "print('The geograpical coordinate of Toronto are {}, {}.'.format(latitude, longitude))"
      ],
      "execution_count": 11,
      "outputs": [
        {
          "output_type": "stream",
          "text": [
            "The geograpical coordinate of Toronto are 43.6425637, -79.38708718320467.\n"
          ],
          "name": "stdout"
        }
      ]
    },
    {
      "cell_type": "markdown",
      "metadata": {
        "id": "hpW8MHPgRqSw"
      },
      "source": [
        "Creating a map of Toronto with neighborhoods superimposed on top using Folium"
      ]
    },
    {
      "cell_type": "code",
      "metadata": {
        "colab": {
          "base_uri": "https://localhost:8080/",
          "height": 866
        },
        "id": "coWkmeeeReeD",
        "outputId": "588c17b0-abd5-4fe9-b112-6df966cc3444"
      },
      "source": [
        "map_toronto = folium.Map(location=[latitude, longitude], zoom_start=11)\r\n",
        "\r\n",
        "#adding markers to map\r\n",
        "for lat, lng, borough, neighbourhood in zip(hoods['Latitude'], hoods['Longitude'], hoods['Borough'], hoods['Neighbourhood']):\r\n",
        "     label = f'{neighbourhood}, {borough}'\r\n",
        "     label = folium.Popup(label, parse_html=True)\r\n",
        "     folium.CircleMarker(\r\n",
        "        [lat, lng],\r\n",
        "        radius=5,\r\n",
        "        popup=label,\r\n",
        "        color='blue',\r\n",
        "        fill=True,\r\n",
        "        fill_color='#3186cc',\r\n",
        "        fill_opacity=0.7,\r\n",
        "        parse_html=False).add_to(map_toronto)  \r\n",
        "    \r\n",
        "map_toronto"
      ],
      "execution_count": 12,
      "outputs": [
        {
          "output_type": "execute_result",
          "data": {
            "text/html": [
              "<div style=\"width:100%;\"><div style=\"position:relative;width:100%;height:0;padding-bottom:60%;\"><span style=\"color:#565656\">Make this Notebook Trusted to load map: File -> Trust Notebook</span><iframe src=\"about:blank\" style=\"position:absolute;width:100%;height:100%;left:0;top:0;border:none !important;\" data-html=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 onload=\"this.contentDocument.open();this.contentDocument.write(atob(this.getAttribute('data-html')));this.contentDocument.close();\" allowfullscreen webkitallowfullscreen mozallowfullscreen></iframe></div></div>"
            ],
            "text/plain": [
              "<folium.folium.Map at 0x7f470fb642e8>"
            ]
          },
          "metadata": {
            "tags": []
          },
          "execution_count": 12
        }
      ]
    },
    {
      "cell_type": "markdown",
      "metadata": {
        "id": "tD0mlKuZXsgM"
      },
      "source": [
        "Now we'll filter the data to consist of neighbourhoods only in the 'Toronto' Area."
      ]
    },
    {
      "cell_type": "code",
      "metadata": {
        "colab": {
          "base_uri": "https://localhost:8080/",
          "height": 521
        },
        "id": "QhS8kjoxTDQq",
        "outputId": "5e016642-984b-4a1d-c0e2-ffef5001a15c"
      },
      "source": [
        "toronto_data = hoods[hoods['Borough'].str.contains('Toronto')].reset_index(drop=True)\r\n",
        "toronto_data.loc[0:15]"
      ],
      "execution_count": 26,
      "outputs": [
        {
          "output_type": "execute_result",
          "data": {
            "text/html": [
              "<div>\n",
              "<style scoped>\n",
              "    .dataframe tbody tr th:only-of-type {\n",
              "        vertical-align: middle;\n",
              "    }\n",
              "\n",
              "    .dataframe tbody tr th {\n",
              "        vertical-align: top;\n",
              "    }\n",
              "\n",
              "    .dataframe thead th {\n",
              "        text-align: right;\n",
              "    }\n",
              "</style>\n",
              "<table border=\"1\" class=\"dataframe\">\n",
              "  <thead>\n",
              "    <tr style=\"text-align: right;\">\n",
              "      <th></th>\n",
              "      <th>Postal Code</th>\n",
              "      <th>Borough</th>\n",
              "      <th>Neighbourhood</th>\n",
              "      <th>Latitude</th>\n",
              "      <th>Longitude</th>\n",
              "    </tr>\n",
              "  </thead>\n",
              "  <tbody>\n",
              "    <tr>\n",
              "      <th>0</th>\n",
              "      <td>M4E</td>\n",
              "      <td>East Toronto</td>\n",
              "      <td>The Beaches</td>\n",
              "      <td>43.676357</td>\n",
              "      <td>-79.293031</td>\n",
              "    </tr>\n",
              "    <tr>\n",
              "      <th>1</th>\n",
              "      <td>M4K</td>\n",
              "      <td>East Toronto</td>\n",
              "      <td>The Danforth West, Riverdale</td>\n",
              "      <td>43.679557</td>\n",
              "      <td>-79.352188</td>\n",
              "    </tr>\n",
              "    <tr>\n",
              "      <th>2</th>\n",
              "      <td>M4L</td>\n",
              "      <td>East Toronto</td>\n",
              "      <td>India Bazaar, The Beaches West</td>\n",
              "      <td>43.668999</td>\n",
              "      <td>-79.315572</td>\n",
              "    </tr>\n",
              "    <tr>\n",
              "      <th>3</th>\n",
              "      <td>M4M</td>\n",
              "      <td>East Toronto</td>\n",
              "      <td>Studio District</td>\n",
              "      <td>43.659526</td>\n",
              "      <td>-79.340923</td>\n",
              "    </tr>\n",
              "    <tr>\n",
              "      <th>4</th>\n",
              "      <td>M4N</td>\n",
              "      <td>Central Toronto</td>\n",
              "      <td>Lawrence Park</td>\n",
              "      <td>43.728020</td>\n",
              "      <td>-79.388790</td>\n",
              "    </tr>\n",
              "    <tr>\n",
              "      <th>5</th>\n",
              "      <td>M4P</td>\n",
              "      <td>Central Toronto</td>\n",
              "      <td>Davisville North</td>\n",
              "      <td>43.712751</td>\n",
              "      <td>-79.390197</td>\n",
              "    </tr>\n",
              "    <tr>\n",
              "      <th>6</th>\n",
              "      <td>M4R</td>\n",
              "      <td>Central Toronto</td>\n",
              "      <td>North Toronto West,  Lawrence Park</td>\n",
              "      <td>43.715383</td>\n",
              "      <td>-79.405678</td>\n",
              "    </tr>\n",
              "    <tr>\n",
              "      <th>7</th>\n",
              "      <td>M4S</td>\n",
              "      <td>Central Toronto</td>\n",
              "      <td>Davisville</td>\n",
              "      <td>43.704324</td>\n",
              "      <td>-79.388790</td>\n",
              "    </tr>\n",
              "    <tr>\n",
              "      <th>8</th>\n",
              "      <td>M4T</td>\n",
              "      <td>Central Toronto</td>\n",
              "      <td>Moore Park, Summerhill East</td>\n",
              "      <td>43.689574</td>\n",
              "      <td>-79.383160</td>\n",
              "    </tr>\n",
              "    <tr>\n",
              "      <th>9</th>\n",
              "      <td>M4V</td>\n",
              "      <td>Central Toronto</td>\n",
              "      <td>Summerhill West, Rathnelly, South Hill, Forest...</td>\n",
              "      <td>43.686412</td>\n",
              "      <td>-79.400049</td>\n",
              "    </tr>\n",
              "    <tr>\n",
              "      <th>10</th>\n",
              "      <td>M4W</td>\n",
              "      <td>Downtown Toronto</td>\n",
              "      <td>Rosedale</td>\n",
              "      <td>43.679563</td>\n",
              "      <td>-79.377529</td>\n",
              "    </tr>\n",
              "    <tr>\n",
              "      <th>11</th>\n",
              "      <td>M4X</td>\n",
              "      <td>Downtown Toronto</td>\n",
              "      <td>St. James Town, Cabbagetown</td>\n",
              "      <td>43.667967</td>\n",
              "      <td>-79.367675</td>\n",
              "    </tr>\n",
              "    <tr>\n",
              "      <th>12</th>\n",
              "      <td>M4Y</td>\n",
              "      <td>Downtown Toronto</td>\n",
              "      <td>Church and Wellesley</td>\n",
              "      <td>43.665860</td>\n",
              "      <td>-79.383160</td>\n",
              "    </tr>\n",
              "    <tr>\n",
              "      <th>13</th>\n",
              "      <td>M5A</td>\n",
              "      <td>Downtown Toronto</td>\n",
              "      <td>Regent Park, Harbourfront</td>\n",
              "      <td>43.654260</td>\n",
              "      <td>-79.360636</td>\n",
              "    </tr>\n",
              "    <tr>\n",
              "      <th>14</th>\n",
              "      <td>M5B</td>\n",
              "      <td>Downtown Toronto</td>\n",
              "      <td>Garden District, Ryerson</td>\n",
              "      <td>43.657162</td>\n",
              "      <td>-79.378937</td>\n",
              "    </tr>\n",
              "    <tr>\n",
              "      <th>15</th>\n",
              "      <td>M5C</td>\n",
              "      <td>Downtown Toronto</td>\n",
              "      <td>St. James Town</td>\n",
              "      <td>43.651494</td>\n",
              "      <td>-79.375418</td>\n",
              "    </tr>\n",
              "  </tbody>\n",
              "</table>\n",
              "</div>"
            ],
            "text/plain": [
              "   Postal Code           Borough  \\\n",
              "0          M4E      East Toronto   \n",
              "1          M4K      East Toronto   \n",
              "2          M4L      East Toronto   \n",
              "3          M4M      East Toronto   \n",
              "4          M4N   Central Toronto   \n",
              "5          M4P   Central Toronto   \n",
              "6          M4R   Central Toronto   \n",
              "7          M4S   Central Toronto   \n",
              "8          M4T   Central Toronto   \n",
              "9          M4V   Central Toronto   \n",
              "10         M4W  Downtown Toronto   \n",
              "11         M4X  Downtown Toronto   \n",
              "12         M4Y  Downtown Toronto   \n",
              "13         M5A  Downtown Toronto   \n",
              "14         M5B  Downtown Toronto   \n",
              "15         M5C  Downtown Toronto   \n",
              "\n",
              "                                        Neighbourhood   Latitude  Longitude  \n",
              "0                                         The Beaches  43.676357 -79.293031  \n",
              "1                        The Danforth West, Riverdale  43.679557 -79.352188  \n",
              "2                      India Bazaar, The Beaches West  43.668999 -79.315572  \n",
              "3                                     Studio District  43.659526 -79.340923  \n",
              "4                                       Lawrence Park  43.728020 -79.388790  \n",
              "5                                    Davisville North  43.712751 -79.390197  \n",
              "6                  North Toronto West,  Lawrence Park  43.715383 -79.405678  \n",
              "7                                          Davisville  43.704324 -79.388790  \n",
              "8                         Moore Park, Summerhill East  43.689574 -79.383160  \n",
              "9   Summerhill West, Rathnelly, South Hill, Forest...  43.686412 -79.400049  \n",
              "10                                           Rosedale  43.679563 -79.377529  \n",
              "11                        St. James Town, Cabbagetown  43.667967 -79.367675  \n",
              "12                               Church and Wellesley  43.665860 -79.383160  \n",
              "13                          Regent Park, Harbourfront  43.654260 -79.360636  \n",
              "14                           Garden District, Ryerson  43.657162 -79.378937  \n",
              "15                                     St. James Town  43.651494 -79.375418  "
            ]
          },
          "metadata": {
            "tags": []
          },
          "execution_count": 26
        }
      ]
    },
    {
      "cell_type": "code",
      "metadata": {
        "colab": {
          "base_uri": "https://localhost:8080/"
        },
        "id": "loySKeiYW6hY",
        "outputId": "1e6977ff-d5d2-4006-d9c2-e0190aeef2ad"
      },
      "source": [
        "toronto_data.shape"
      ],
      "execution_count": 27,
      "outputs": [
        {
          "output_type": "execute_result",
          "data": {
            "text/plain": [
              "(39, 5)"
            ]
          },
          "metadata": {
            "tags": []
          },
          "execution_count": 27
        }
      ]
    },
    {
      "cell_type": "markdown",
      "metadata": {
        "id": "d69szYM6Z8xT"
      },
      "source": [
        "So, there area 39 Boroughs in the Toronto area.\r\n",
        "Now I'll plot these on the toronto map."
      ]
    },
    {
      "cell_type": "code",
      "metadata": {
        "colab": {
          "base_uri": "https://localhost:8080/",
          "height": 866
        },
        "id": "ORKm1dBCYVi_",
        "outputId": "cd72dfbf-e9cf-4eae-8591-5bef16edc467"
      },
      "source": [
        "map_toronto1 = folium.Map(location=[latitude, longitude], zoom_start=13)\r\n",
        "\r\n",
        "#adding markers to map\r\n",
        "for lat, lng, borough, neighbourhood in zip(toronto_data['Latitude'], toronto_data['Longitude'], toronto_data['Borough'], toronto_data['Neighbourhood']):\r\n",
        "     label = f'{neighbourhood}, {borough}'\r\n",
        "     label = folium.Popup(label, parse_html=True)\r\n",
        "     folium.CircleMarker(\r\n",
        "        [lat, lng],\r\n",
        "        radius=5,\r\n",
        "        popup=label,\r\n",
        "        color='red',\r\n",
        "        fill=True,\r\n",
        "        fill_color='#3186cc',\r\n",
        "        fill_opacity=0.7,\r\n",
        "        parse_html=False).add_to(map_toronto1)  \r\n",
        "    \r\n",
        "map_toronto1"
      ],
      "execution_count": 29,
      "outputs": [
        {
          "output_type": "execute_result",
          "data": {
            "text/html": [
              "<div style=\"width:100%;\"><div style=\"position:relative;width:100%;height:0;padding-bottom:60%;\"><span style=\"color:#565656\">Make this Notebook Trusted to load map: File -> Trust Notebook</span><iframe src=\"about:blank\" style=\"position:absolute;width:100%;height:100%;left:0;top:0;border:none !important;\" data-html=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 onload=\"this.contentDocument.open();this.contentDocument.write(atob(this.getAttribute('data-html')));this.contentDocument.close();\" allowfullscreen webkitallowfullscreen mozallowfullscreen></iframe></div></div>"
            ],
            "text/plain": [
              "<folium.folium.Map at 0x7f470defb4e0>"
            ]
          },
          "metadata": {
            "tags": []
          },
          "execution_count": 29
        }
      ]
    },
    {
      "cell_type": "markdown",
      "metadata": {
        "id": "2YrS5m-wbY7E"
      },
      "source": [
        "## Exploring Neighourhoods\r\n",
        "\r\n",
        "In this section I'll be using the Foursquare API to explore the neighbourhoods and segment them."
      ]
    },
    {
      "cell_type": "code",
      "metadata": {
        "colab": {
          "base_uri": "https://localhost:8080/"
        },
        "id": "4LDF_apoawKe",
        "outputId": "5545eee3-8ba6-44d4-977b-6dffc496ecf4"
      },
      "source": [
        "CLIENT_ID = 'KCOVE3SEDEMDU1505SOPFOSZWRS21MTPETWKXB5ZEF3PUFQA' # Foursquare ID\r\n",
        "CLIENT_SECRET = '5FNX4DN4RG10KP4LHHQS3NCCKLVS2HFUX53FSDEWQPU33J55' # Foursquare Secret\r\n",
        "VERSION = '20180605' # Foursquare API version\r\n",
        "LIMIT = 100 # A default Foursquare API limit value\r\n",
        "\r\n",
        "print('Your credentails:')\r\n",
        "print('CLIENT_ID: ' + CLIENT_ID)\r\n",
        "print('CLIENT_SECRET:' + CLIENT_SECRET)"
      ],
      "execution_count": 30,
      "outputs": [
        {
          "output_type": "stream",
          "text": [
            "Your credentails:\n",
            "CLIENT_ID: KCOVE3SEDEMDU1505SOPFOSZWRS21MTPETWKXB5ZEF3PUFQA\n",
            "CLIENT_SECRET:5FNX4DN4RG10KP4LHHQS3NCCKLVS2HFUX53FSDEWQPU33J55\n"
          ],
          "name": "stdout"
        }
      ]
    },
    {
      "cell_type": "markdown",
      "metadata": {
        "id": "w4oW97Uockfh"
      },
      "source": [
        "Let's start by exploring a single neighbourhood."
      ]
    },
    {
      "cell_type": "code",
      "metadata": {
        "colab": {
          "base_uri": "https://localhost:8080/",
          "height": 35
        },
        "id": "k-zi2ZSYcE2c",
        "outputId": "555d8771-3064-4789-9467-c10f96f9251e"
      },
      "source": [
        "toronto_data.loc[0, 'Neighbourhood']"
      ],
      "execution_count": 31,
      "outputs": [
        {
          "output_type": "execute_result",
          "data": {
            "application/vnd.google.colaboratory.intrinsic+json": {
              "type": "string"
            },
            "text/plain": [
              "'The Beaches'"
            ]
          },
          "metadata": {
            "tags": []
          },
          "execution_count": 31
        }
      ]
    },
    {
      "cell_type": "code",
      "metadata": {
        "colab": {
          "base_uri": "https://localhost:8080/"
        },
        "id": "lS7LnrUsc3Oj",
        "outputId": "ea482f9d-9c37-42e3-bcaa-8f117f3bc0cc"
      },
      "source": [
        "# Getting geocoordinates of this neighbourhood\r\n",
        "hood_lat = toronto_data.loc[0, 'Latitude']\r\n",
        "hood_lng = toronto_data.loc[0, 'Longitude']\r\n",
        "hood_name = toronto_data.loc[0, 'Neighbourhood']\r\n",
        "\r\n",
        "print(f'The Neighbourhood, {hood_name}, is located on Latitude: {hood_lat} and Longitude: {hood_lng}')"
      ],
      "execution_count": 34,
      "outputs": [
        {
          "output_type": "stream",
          "text": [
            "The Neighbourhood, The Beaches, is located on Latitude: 43.67635739999999 and Longitude: -79.2930312\n"
          ],
          "name": "stdout"
        }
      ]
    },
    {
      "cell_type": "markdown",
      "metadata": {
        "id": "KfIuh5QQeXa8"
      },
      "source": [
        "Now, let's get the top 100 venues that are in 'The Beaches' within a radius of 500 meters."
      ]
    },
    {
      "cell_type": "markdown",
      "metadata": {
        "id": "U5JWLnTBefr6"
      },
      "source": [
        "First, let's create the Get request URL."
      ]
    },
    {
      "cell_type": "code",
      "metadata": {
        "colab": {
          "base_uri": "https://localhost:8080/",
          "height": 52
        },
        "id": "qkA2ywnGd1g2",
        "outputId": "3e2775e1-9ad4-45da-c9af-6a5fc0b35c96"
      },
      "source": [
        "LIMIT = 100\r\n",
        "radius = 500\r\n",
        "url = 'https://api.foursquare.com/v2/venues/explore?&client_id={}&client_secret={}&v={}&ll={},{}&radius={}&limit={}'.format(\r\n",
        "    CLIENT_ID, \r\n",
        "    CLIENT_SECRET, \r\n",
        "    VERSION, \r\n",
        "    hood_lat, \r\n",
        "    hood_lng, \r\n",
        "    radius, \r\n",
        "    LIMIT)\r\n",
        "\r\n",
        "url"
      ],
      "execution_count": 35,
      "outputs": [
        {
          "output_type": "execute_result",
          "data": {
            "application/vnd.google.colaboratory.intrinsic+json": {
              "type": "string"
            },
            "text/plain": [
              "'https://api.foursquare.com/v2/venues/explore?&client_id=KCOVE3SEDEMDU1505SOPFOSZWRS21MTPETWKXB5ZEF3PUFQA&client_secret=5FNX4DN4RG10KP4LHHQS3NCCKLVS2HFUX53FSDEWQPU33J55&v=20180605&ll=43.67635739999999,-79.2930312&radius=500&limit=100'"
            ]
          },
          "metadata": {
            "tags": []
          },
          "execution_count": 35
        }
      ]
    },
    {
      "cell_type": "code",
      "metadata": {
        "colab": {
          "base_uri": "https://localhost:8080/"
        },
        "id": "1zTKEBJZevtj",
        "outputId": "0eb2204d-0fd5-481e-a51b-8f17705637ff"
      },
      "source": [
        "results = requests.get(url).json()\r\n",
        "results"
      ],
      "execution_count": 36,
      "outputs": [
        {
          "output_type": "execute_result",
          "data": {
            "text/plain": [
              "{'meta': {'code': 200, 'requestId': '5fd39463a06d855f1b49e2ad'},\n",
              " 'response': {'groups': [{'items': [{'reasons': {'count': 0,\n",
              "       'items': [{'reasonName': 'globalInteractionReason',\n",
              "         'summary': 'This spot is popular',\n",
              "         'type': 'general'}]},\n",
              "      'referralId': 'e-0-4bd461bc77b29c74a07d9282-0',\n",
              "      'venue': {'categories': [{'icon': {'prefix': 'https://ss3.4sqi.net/img/categories_v2/parks_outdoors/hikingtrail_',\n",
              "          'suffix': '.png'},\n",
              "         'id': '4bf58dd8d48988d159941735',\n",
              "         'name': 'Trail',\n",
              "         'pluralName': 'Trails',\n",
              "         'primary': True,\n",
              "         'shortName': 'Trail'}],\n",
              "       'id': '4bd461bc77b29c74a07d9282',\n",
              "       'location': {'address': 'Glen Manor',\n",
              "        'cc': 'CA',\n",
              "        'city': 'Toronto',\n",
              "        'country': 'Canada',\n",
              "        'crossStreet': 'Queen St.',\n",
              "        'distance': 89,\n",
              "        'formattedAddress': ['Glen Manor (Queen St.)', 'Toronto ON', 'Canada'],\n",
              "        'labeledLatLngs': [{'label': 'display',\n",
              "          'lat': 43.67682094413784,\n",
              "          'lng': -79.29394208780985}],\n",
              "        'lat': 43.67682094413784,\n",
              "        'lng': -79.29394208780985,\n",
              "        'state': 'ON'},\n",
              "       'name': 'Glen Manor Ravine',\n",
              "       'photos': {'count': 0, 'groups': []}}},\n",
              "     {'reasons': {'count': 0,\n",
              "       'items': [{'reasonName': 'globalInteractionReason',\n",
              "         'summary': 'This spot is popular',\n",
              "         'type': 'general'}]},\n",
              "      'referralId': 'e-0-4ad4c062f964a52011f820e3-1',\n",
              "      'venue': {'categories': [{'icon': {'prefix': 'https://ss3.4sqi.net/img/categories_v2/shops/food_grocery_',\n",
              "          'suffix': '.png'},\n",
              "         'id': '50aa9e744b90af0d42d5de0e',\n",
              "         'name': 'Health Food Store',\n",
              "         'pluralName': 'Health Food Stores',\n",
              "         'primary': True,\n",
              "         'shortName': 'Health Food Store'}],\n",
              "       'id': '4ad4c062f964a52011f820e3',\n",
              "       'location': {'address': '125 Southwood Dr',\n",
              "        'cc': 'CA',\n",
              "        'city': 'Toronto',\n",
              "        'country': 'Canada',\n",
              "        'distance': 471,\n",
              "        'formattedAddress': ['125 Southwood Dr',\n",
              "         'Toronto ON M4E 0B8',\n",
              "         'Canada'],\n",
              "        'labeledLatLngs': [{'label': 'display',\n",
              "          'lat': 43.678879,\n",
              "          'lng': -79.297734}],\n",
              "        'lat': 43.678879,\n",
              "        'lng': -79.297734,\n",
              "        'postalCode': 'M4E 0B8',\n",
              "        'state': 'ON'},\n",
              "       'name': 'The Big Carrot Natural Food Market',\n",
              "       'photos': {'count': 0, 'groups': []},\n",
              "       'venuePage': {'id': '75150878'}}},\n",
              "     {'reasons': {'count': 0,\n",
              "       'items': [{'reasonName': 'globalInteractionReason',\n",
              "         'summary': 'This spot is popular',\n",
              "         'type': 'general'}]},\n",
              "      'referralId': 'e-0-4b8daea1f964a520480833e3-2',\n",
              "      'venue': {'categories': [{'icon': {'prefix': 'https://ss3.4sqi.net/img/categories_v2/nightlife/pub_',\n",
              "          'suffix': '.png'},\n",
              "         'id': '4bf58dd8d48988d11b941735',\n",
              "         'name': 'Pub',\n",
              "         'pluralName': 'Pubs',\n",
              "         'primary': True,\n",
              "         'shortName': 'Pub'}],\n",
              "       'id': '4b8daea1f964a520480833e3',\n",
              "       'location': {'address': '676 Kingston Rd.',\n",
              "        'cc': 'CA',\n",
              "        'city': 'Toronto',\n",
              "        'country': 'Canada',\n",
              "        'crossStreet': 'at Main St.',\n",
              "        'distance': 460,\n",
              "        'formattedAddress': ['676 Kingston Rd. (at Main St.)',\n",
              "         'Toronto ON M4E 1R4',\n",
              "         'Canada'],\n",
              "        'labeledLatLngs': [{'label': 'display',\n",
              "          'lat': 43.679181434941015,\n",
              "          'lng': -79.29721535878515}],\n",
              "        'lat': 43.679181434941015,\n",
              "        'lng': -79.29721535878515,\n",
              "        'postalCode': 'M4E 1R4',\n",
              "        'state': 'ON'},\n",
              "       'name': 'Grover Pub and Grub',\n",
              "       'photos': {'count': 0, 'groups': []}}},\n",
              "     {'reasons': {'count': 0,\n",
              "       'items': [{'reasonName': 'globalInteractionReason',\n",
              "         'summary': 'This spot is popular',\n",
              "         'type': 'general'}]},\n",
              "      'referralId': 'e-0-4df91c4bae60f95f82229ad5-3',\n",
              "      'venue': {'categories': [{'icon': {'prefix': 'https://ss3.4sqi.net/img/categories_v2/parks_outdoors/neighborhood_',\n",
              "          'suffix': '.png'},\n",
              "         'id': '4f2a25ac4b909258e854f55f',\n",
              "         'name': 'Neighborhood',\n",
              "         'pluralName': 'Neighborhoods',\n",
              "         'primary': True,\n",
              "         'shortName': 'Neighborhood'}],\n",
              "       'id': '4df91c4bae60f95f82229ad5',\n",
              "       'location': {'cc': 'CA',\n",
              "        'city': 'Toronto',\n",
              "        'country': 'Canada',\n",
              "        'distance': 468,\n",
              "        'formattedAddress': ['Toronto ON', 'Canada'],\n",
              "        'labeledLatLngs': [{'label': 'display',\n",
              "          'lat': 43.68056321147582,\n",
              "          'lng': -79.2928688743688}],\n",
              "        'lat': 43.68056321147582,\n",
              "        'lng': -79.2928688743688,\n",
              "        'state': 'ON'},\n",
              "       'name': 'Upper Beaches',\n",
              "       'photos': {'count': 0, 'groups': []}}}],\n",
              "    'name': 'recommended',\n",
              "    'type': 'Recommended Places'}],\n",
              "  'headerFullLocation': 'The Beaches, Toronto',\n",
              "  'headerLocation': 'The Beaches',\n",
              "  'headerLocationGranularity': 'neighborhood',\n",
              "  'suggestedBounds': {'ne': {'lat': 43.680857404499996,\n",
              "    'lng': -79.28682091449052},\n",
              "   'sw': {'lat': 43.67185739549999, 'lng': -79.29924148550948}},\n",
              "  'totalResults': 4}}"
            ]
          },
          "metadata": {
            "tags": []
          },
          "execution_count": 36
        }
      ]
    },
    {
      "cell_type": "markdown",
      "metadata": {
        "id": "my7byjl2fH2d"
      },
      "source": [
        "I'll use the following function to get venue names."
      ]
    },
    {
      "cell_type": "code",
      "metadata": {
        "id": "uP9vgnaye6Pc"
      },
      "source": [
        "# function to extract the category of the venue\r\n",
        "def get_category_type(row):\r\n",
        "    try:\r\n",
        "        categories_list = row['categories']\r\n",
        "    except:\r\n",
        "        categories_list = row['venue.categories']\r\n",
        "        \r\n",
        "    if len(categories_list) == 0:\r\n",
        "        return None\r\n",
        "    else:\r\n",
        "        return categories_list[0]['name']"
      ],
      "execution_count": 37,
      "outputs": []
    },
    {
      "cell_type": "markdown",
      "metadata": {
        "id": "mivEsobLfSP3"
      },
      "source": [
        "Now let's clean the json and structure it into a pandas dataframe."
      ]
    },
    {
      "cell_type": "code",
      "metadata": {
        "colab": {
          "base_uri": "https://localhost:8080/",
          "height": 166
        },
        "id": "33P2ZeTJfQYk",
        "outputId": "86ae5280-01ec-4da3-9f16-b05e0bf2152e"
      },
      "source": [
        "venues = results['response']['groups'][0]['items']\r\n",
        "    \r\n",
        "nearby_venues = json_normalize(venues) # flatten JSON\r\n",
        "\r\n",
        "# filter columns\r\n",
        "filtered_columns = ['venue.name', 'venue.categories', 'venue.location.lat', 'venue.location.lng']\r\n",
        "nearby_venues =nearby_venues.loc[:, filtered_columns]\r\n",
        "\r\n",
        "# filter the category for each row\r\n",
        "nearby_venues['venue.categories'] = nearby_venues.apply(get_category_type, axis=1)\r\n",
        "\r\n",
        "# clean columns\r\n",
        "nearby_venues.columns = [col.split(\".\")[-1] for col in nearby_venues.columns]\r\n",
        "\r\n",
        "nearby_venues.head()"
      ],
      "execution_count": 38,
      "outputs": [
        {
          "output_type": "execute_result",
          "data": {
            "text/html": [
              "<div>\n",
              "<style scoped>\n",
              "    .dataframe tbody tr th:only-of-type {\n",
              "        vertical-align: middle;\n",
              "    }\n",
              "\n",
              "    .dataframe tbody tr th {\n",
              "        vertical-align: top;\n",
              "    }\n",
              "\n",
              "    .dataframe thead th {\n",
              "        text-align: right;\n",
              "    }\n",
              "</style>\n",
              "<table border=\"1\" class=\"dataframe\">\n",
              "  <thead>\n",
              "    <tr style=\"text-align: right;\">\n",
              "      <th></th>\n",
              "      <th>name</th>\n",
              "      <th>categories</th>\n",
              "      <th>lat</th>\n",
              "      <th>lng</th>\n",
              "    </tr>\n",
              "  </thead>\n",
              "  <tbody>\n",
              "    <tr>\n",
              "      <th>0</th>\n",
              "      <td>Glen Manor Ravine</td>\n",
              "      <td>Trail</td>\n",
              "      <td>43.676821</td>\n",
              "      <td>-79.293942</td>\n",
              "    </tr>\n",
              "    <tr>\n",
              "      <th>1</th>\n",
              "      <td>The Big Carrot Natural Food Market</td>\n",
              "      <td>Health Food Store</td>\n",
              "      <td>43.678879</td>\n",
              "      <td>-79.297734</td>\n",
              "    </tr>\n",
              "    <tr>\n",
              "      <th>2</th>\n",
              "      <td>Grover Pub and Grub</td>\n",
              "      <td>Pub</td>\n",
              "      <td>43.679181</td>\n",
              "      <td>-79.297215</td>\n",
              "    </tr>\n",
              "    <tr>\n",
              "      <th>3</th>\n",
              "      <td>Upper Beaches</td>\n",
              "      <td>Neighborhood</td>\n",
              "      <td>43.680563</td>\n",
              "      <td>-79.292869</td>\n",
              "    </tr>\n",
              "  </tbody>\n",
              "</table>\n",
              "</div>"
            ],
            "text/plain": [
              "                                 name         categories        lat        lng\n",
              "0                   Glen Manor Ravine              Trail  43.676821 -79.293942\n",
              "1  The Big Carrot Natural Food Market  Health Food Store  43.678879 -79.297734\n",
              "2                 Grover Pub and Grub                Pub  43.679181 -79.297215\n",
              "3                       Upper Beaches       Neighborhood  43.680563 -79.292869"
            ]
          },
          "metadata": {
            "tags": []
          },
          "execution_count": 38
        }
      ]
    },
    {
      "cell_type": "code",
      "metadata": {
        "colab": {
          "base_uri": "https://localhost:8080/"
        },
        "id": "pWgqxTKGfd_6",
        "outputId": "ff8c5664-fdc7-40d0-bc2a-c4cbcd0df0b9"
      },
      "source": [
        "print(f'{nearby_venues.shape[0]} venues were returned by Foursquare.')"
      ],
      "execution_count": 40,
      "outputs": [
        {
          "output_type": "stream",
          "text": [
            "4 venues were returned by Foursquare.\n"
          ],
          "name": "stdout"
        }
      ]
    },
    {
      "cell_type": "markdown",
      "metadata": {
        "id": "QnF5P-2NgEXT"
      },
      "source": [
        "## Exploring all neighbourhoods in Toronto"
      ]
    },
    {
      "cell_type": "markdown",
      "metadata": {
        "id": "FWqPZNnRfyLK"
      },
      "source": [
        "#### Now we'll create a function to repeat the above process for all neighbourhoods in Toronto"
      ]
    },
    {
      "cell_type": "code",
      "metadata": {
        "id": "jPNvrqm9fl1a"
      },
      "source": [
        "def getNearbyVenues(names, latitudes, longitudes, radius=500):\r\n",
        "    \r\n",
        "    venues_list=[]\r\n",
        "    for name, lat, lng in zip(names, latitudes, longitudes):\r\n",
        "        print(name)\r\n",
        "            \r\n",
        "        # create the API request URL\r\n",
        "        url = 'https://api.foursquare.com/v2/venues/explore?&client_id={}&client_secret={}&v={}&ll={},{}&radius={}&limit={}'.format(\r\n",
        "            CLIENT_ID, \r\n",
        "            CLIENT_SECRET, \r\n",
        "            VERSION, \r\n",
        "            lat, \r\n",
        "            lng, \r\n",
        "            radius, \r\n",
        "            LIMIT)\r\n",
        "            \r\n",
        "        # make the GET request\r\n",
        "        results = requests.get(url).json()[\"response\"]['groups'][0]['items']\r\n",
        "        \r\n",
        "        # return only relevant information for each nearby venue\r\n",
        "        venues_list.append([(\r\n",
        "            name, \r\n",
        "            lat, \r\n",
        "            lng, \r\n",
        "            v['venue']['name'], \r\n",
        "            v['venue']['location']['lat'], \r\n",
        "            v['venue']['location']['lng'],  \r\n",
        "            v['venue']['categories'][0]['name']) for v in results])\r\n",
        "\r\n",
        "    nearby_venues = pd.DataFrame([item for venue_list in venues_list for item in venue_list])\r\n",
        "    nearby_venues.columns = ['Neighborhood', \r\n",
        "                  'Neighborhood Latitude', \r\n",
        "                  'Neighborhood Longitude', \r\n",
        "                  'Venue', \r\n",
        "                  'Venue Latitude', \r\n",
        "                  'Venue Longitude', \r\n",
        "                  'Venue Category']\r\n",
        "    \r\n",
        "    return(nearby_venues)"
      ],
      "execution_count": 41,
      "outputs": []
    },
    {
      "cell_type": "code",
      "metadata": {
        "colab": {
          "base_uri": "https://localhost:8080/"
        },
        "id": "FlBRipc2gjbO",
        "outputId": "9f2325cc-596c-40e4-db52-21b5e56b6ce3"
      },
      "source": [
        "toronto_venues = getNearbyVenues(names=toronto_data['Neighbourhood'],\r\n",
        "                                 latitudes=toronto_data['Latitude'],\r\n",
        "                                 longitudes=toronto_data['Longitude']\r\n",
        "                                 )"
      ],
      "execution_count": 44,
      "outputs": [
        {
          "output_type": "stream",
          "text": [
            "The Beaches\n",
            "The Danforth West, Riverdale\n",
            "India Bazaar, The Beaches West\n",
            "Studio District\n",
            "Lawrence Park\n",
            "Davisville North\n",
            "North Toronto West,  Lawrence Park\n",
            "Davisville\n",
            "Moore Park, Summerhill East\n",
            "Summerhill West, Rathnelly, South Hill, Forest Hill SE, Deer Park\n",
            "Rosedale\n",
            "St. James Town, Cabbagetown\n",
            "Church and Wellesley\n",
            "Regent Park, Harbourfront\n",
            "Garden District, Ryerson\n",
            "St. James Town\n",
            "Berczy Park\n",
            "Central Bay Street\n",
            "Richmond, Adelaide, King\n",
            "Harbourfront East, Union Station, Toronto Islands\n",
            "Toronto Dominion Centre, Design Exchange\n",
            "Commerce Court, Victoria Hotel\n",
            "Roselawn\n",
            "Forest Hill North & West, Forest Hill Road Park\n",
            "The Annex, North Midtown, Yorkville\n",
            "University of Toronto, Harbord\n",
            "Kensington Market, Chinatown, Grange Park\n",
            "CN Tower, King and Spadina, Railway Lands, Harbourfront West, Bathurst Quay, South Niagara, Island airport\n",
            "Stn A PO Boxes\n",
            "First Canadian Place, Underground city\n",
            "Christie\n",
            "Dufferin, Dovercourt Village\n",
            "Little Portugal, Trinity\n",
            "Brockton, Parkdale Village, Exhibition Place\n",
            "High Park, The Junction South\n",
            "Parkdale, Roncesvalles\n",
            "Runnymede, Swansea\n",
            "Queen's Park, Ontario Provincial Government\n",
            "Business reply mail Processing Centre, South Central Letter Processing Plant Toronto\n"
          ],
          "name": "stdout"
        }
      ]
    },
    {
      "cell_type": "code",
      "metadata": {
        "colab": {
          "base_uri": "https://localhost:8080/"
        },
        "id": "zohxcXNwg9hD",
        "outputId": "aa08d156-2af5-429b-fc47-89f89f2ed9de"
      },
      "source": [
        "toronto_venues.shape"
      ],
      "execution_count": 45,
      "outputs": [
        {
          "output_type": "execute_result",
          "data": {
            "text/plain": [
              "(1624, 7)"
            ]
          },
          "metadata": {
            "tags": []
          },
          "execution_count": 45
        }
      ]
    },
    {
      "cell_type": "code",
      "metadata": {
        "colab": {
          "base_uri": "https://localhost:8080/",
          "height": 195
        },
        "id": "aEiIcwTOhsDV",
        "outputId": "d36f445e-8895-487c-9080-c98591acbf7d"
      },
      "source": [
        "toronto_venues.head()"
      ],
      "execution_count": 46,
      "outputs": [
        {
          "output_type": "execute_result",
          "data": {
            "text/html": [
              "<div>\n",
              "<style scoped>\n",
              "    .dataframe tbody tr th:only-of-type {\n",
              "        vertical-align: middle;\n",
              "    }\n",
              "\n",
              "    .dataframe tbody tr th {\n",
              "        vertical-align: top;\n",
              "    }\n",
              "\n",
              "    .dataframe thead th {\n",
              "        text-align: right;\n",
              "    }\n",
              "</style>\n",
              "<table border=\"1\" class=\"dataframe\">\n",
              "  <thead>\n",
              "    <tr style=\"text-align: right;\">\n",
              "      <th></th>\n",
              "      <th>Neighborhood</th>\n",
              "      <th>Neighborhood Latitude</th>\n",
              "      <th>Neighborhood Longitude</th>\n",
              "      <th>Venue</th>\n",
              "      <th>Venue Latitude</th>\n",
              "      <th>Venue Longitude</th>\n",
              "      <th>Venue Category</th>\n",
              "    </tr>\n",
              "  </thead>\n",
              "  <tbody>\n",
              "    <tr>\n",
              "      <th>0</th>\n",
              "      <td>The Beaches</td>\n",
              "      <td>43.676357</td>\n",
              "      <td>-79.293031</td>\n",
              "      <td>Glen Manor Ravine</td>\n",
              "      <td>43.676821</td>\n",
              "      <td>-79.293942</td>\n",
              "      <td>Trail</td>\n",
              "    </tr>\n",
              "    <tr>\n",
              "      <th>1</th>\n",
              "      <td>The Beaches</td>\n",
              "      <td>43.676357</td>\n",
              "      <td>-79.293031</td>\n",
              "      <td>The Big Carrot Natural Food Market</td>\n",
              "      <td>43.678879</td>\n",
              "      <td>-79.297734</td>\n",
              "      <td>Health Food Store</td>\n",
              "    </tr>\n",
              "    <tr>\n",
              "      <th>2</th>\n",
              "      <td>The Beaches</td>\n",
              "      <td>43.676357</td>\n",
              "      <td>-79.293031</td>\n",
              "      <td>Grover Pub and Grub</td>\n",
              "      <td>43.679181</td>\n",
              "      <td>-79.297215</td>\n",
              "      <td>Pub</td>\n",
              "    </tr>\n",
              "    <tr>\n",
              "      <th>3</th>\n",
              "      <td>The Beaches</td>\n",
              "      <td>43.676357</td>\n",
              "      <td>-79.293031</td>\n",
              "      <td>Upper Beaches</td>\n",
              "      <td>43.680563</td>\n",
              "      <td>-79.292869</td>\n",
              "      <td>Neighborhood</td>\n",
              "    </tr>\n",
              "    <tr>\n",
              "      <th>4</th>\n",
              "      <td>The Danforth West, Riverdale</td>\n",
              "      <td>43.679557</td>\n",
              "      <td>-79.352188</td>\n",
              "      <td>Pantheon</td>\n",
              "      <td>43.677621</td>\n",
              "      <td>-79.351434</td>\n",
              "      <td>Greek Restaurant</td>\n",
              "    </tr>\n",
              "  </tbody>\n",
              "</table>\n",
              "</div>"
            ],
            "text/plain": [
              "                   Neighborhood  Neighborhood Latitude  \\\n",
              "0                   The Beaches              43.676357   \n",
              "1                   The Beaches              43.676357   \n",
              "2                   The Beaches              43.676357   \n",
              "3                   The Beaches              43.676357   \n",
              "4  The Danforth West, Riverdale              43.679557   \n",
              "\n",
              "   Neighborhood Longitude                               Venue  Venue Latitude  \\\n",
              "0              -79.293031                   Glen Manor Ravine       43.676821   \n",
              "1              -79.293031  The Big Carrot Natural Food Market       43.678879   \n",
              "2              -79.293031                 Grover Pub and Grub       43.679181   \n",
              "3              -79.293031                       Upper Beaches       43.680563   \n",
              "4              -79.352188                            Pantheon       43.677621   \n",
              "\n",
              "   Venue Longitude     Venue Category  \n",
              "0       -79.293942              Trail  \n",
              "1       -79.297734  Health Food Store  \n",
              "2       -79.297215                Pub  \n",
              "3       -79.292869       Neighborhood  \n",
              "4       -79.351434   Greek Restaurant  "
            ]
          },
          "metadata": {
            "tags": []
          },
          "execution_count": 46
        }
      ]
    },
    {
      "cell_type": "code",
      "metadata": {
        "colab": {
          "base_uri": "https://localhost:8080/",
          "height": 1000
        },
        "id": "X9rCYNuYhyEt",
        "outputId": "2849d559-1e02-47bd-df61-0444b313c47f"
      },
      "source": [
        "toronto_venues.groupby('Neighborhood').count()"
      ],
      "execution_count": 48,
      "outputs": [
        {
          "output_type": "execute_result",
          "data": {
            "text/html": [
              "<div>\n",
              "<style scoped>\n",
              "    .dataframe tbody tr th:only-of-type {\n",
              "        vertical-align: middle;\n",
              "    }\n",
              "\n",
              "    .dataframe tbody tr th {\n",
              "        vertical-align: top;\n",
              "    }\n",
              "\n",
              "    .dataframe thead th {\n",
              "        text-align: right;\n",
              "    }\n",
              "</style>\n",
              "<table border=\"1\" class=\"dataframe\">\n",
              "  <thead>\n",
              "    <tr style=\"text-align: right;\">\n",
              "      <th></th>\n",
              "      <th>Neighborhood Latitude</th>\n",
              "      <th>Neighborhood Longitude</th>\n",
              "      <th>Venue</th>\n",
              "      <th>Venue Latitude</th>\n",
              "      <th>Venue Longitude</th>\n",
              "      <th>Venue Category</th>\n",
              "    </tr>\n",
              "    <tr>\n",
              "      <th>Neighborhood</th>\n",
              "      <th></th>\n",
              "      <th></th>\n",
              "      <th></th>\n",
              "      <th></th>\n",
              "      <th></th>\n",
              "      <th></th>\n",
              "    </tr>\n",
              "  </thead>\n",
              "  <tbody>\n",
              "    <tr>\n",
              "      <th>Berczy Park</th>\n",
              "      <td>55</td>\n",
              "      <td>55</td>\n",
              "      <td>55</td>\n",
              "      <td>55</td>\n",
              "      <td>55</td>\n",
              "      <td>55</td>\n",
              "    </tr>\n",
              "    <tr>\n",
              "      <th>Brockton, Parkdale Village, Exhibition Place</th>\n",
              "      <td>23</td>\n",
              "      <td>23</td>\n",
              "      <td>23</td>\n",
              "      <td>23</td>\n",
              "      <td>23</td>\n",
              "      <td>23</td>\n",
              "    </tr>\n",
              "    <tr>\n",
              "      <th>Business reply mail Processing Centre, South Central Letter Processing Plant Toronto</th>\n",
              "      <td>16</td>\n",
              "      <td>16</td>\n",
              "      <td>16</td>\n",
              "      <td>16</td>\n",
              "      <td>16</td>\n",
              "      <td>16</td>\n",
              "    </tr>\n",
              "    <tr>\n",
              "      <th>CN Tower, King and Spadina, Railway Lands, Harbourfront West, Bathurst Quay, South Niagara, Island airport</th>\n",
              "      <td>16</td>\n",
              "      <td>16</td>\n",
              "      <td>16</td>\n",
              "      <td>16</td>\n",
              "      <td>16</td>\n",
              "      <td>16</td>\n",
              "    </tr>\n",
              "    <tr>\n",
              "      <th>Central Bay Street</th>\n",
              "      <td>68</td>\n",
              "      <td>68</td>\n",
              "      <td>68</td>\n",
              "      <td>68</td>\n",
              "      <td>68</td>\n",
              "      <td>68</td>\n",
              "    </tr>\n",
              "    <tr>\n",
              "      <th>Christie</th>\n",
              "      <td>16</td>\n",
              "      <td>16</td>\n",
              "      <td>16</td>\n",
              "      <td>16</td>\n",
              "      <td>16</td>\n",
              "      <td>16</td>\n",
              "    </tr>\n",
              "    <tr>\n",
              "      <th>Church and Wellesley</th>\n",
              "      <td>75</td>\n",
              "      <td>75</td>\n",
              "      <td>75</td>\n",
              "      <td>75</td>\n",
              "      <td>75</td>\n",
              "      <td>75</td>\n",
              "    </tr>\n",
              "    <tr>\n",
              "      <th>Commerce Court, Victoria Hotel</th>\n",
              "      <td>100</td>\n",
              "      <td>100</td>\n",
              "      <td>100</td>\n",
              "      <td>100</td>\n",
              "      <td>100</td>\n",
              "      <td>100</td>\n",
              "    </tr>\n",
              "    <tr>\n",
              "      <th>Davisville</th>\n",
              "      <td>33</td>\n",
              "      <td>33</td>\n",
              "      <td>33</td>\n",
              "      <td>33</td>\n",
              "      <td>33</td>\n",
              "      <td>33</td>\n",
              "    </tr>\n",
              "    <tr>\n",
              "      <th>Davisville North</th>\n",
              "      <td>9</td>\n",
              "      <td>9</td>\n",
              "      <td>9</td>\n",
              "      <td>9</td>\n",
              "      <td>9</td>\n",
              "      <td>9</td>\n",
              "    </tr>\n",
              "    <tr>\n",
              "      <th>Dufferin, Dovercourt Village</th>\n",
              "      <td>13</td>\n",
              "      <td>13</td>\n",
              "      <td>13</td>\n",
              "      <td>13</td>\n",
              "      <td>13</td>\n",
              "      <td>13</td>\n",
              "    </tr>\n",
              "    <tr>\n",
              "      <th>First Canadian Place, Underground city</th>\n",
              "      <td>100</td>\n",
              "      <td>100</td>\n",
              "      <td>100</td>\n",
              "      <td>100</td>\n",
              "      <td>100</td>\n",
              "      <td>100</td>\n",
              "    </tr>\n",
              "    <tr>\n",
              "      <th>Forest Hill North &amp; West, Forest Hill Road Park</th>\n",
              "      <td>4</td>\n",
              "      <td>4</td>\n",
              "      <td>4</td>\n",
              "      <td>4</td>\n",
              "      <td>4</td>\n",
              "      <td>4</td>\n",
              "    </tr>\n",
              "    <tr>\n",
              "      <th>Garden District, Ryerson</th>\n",
              "      <td>100</td>\n",
              "      <td>100</td>\n",
              "      <td>100</td>\n",
              "      <td>100</td>\n",
              "      <td>100</td>\n",
              "      <td>100</td>\n",
              "    </tr>\n",
              "    <tr>\n",
              "      <th>Harbourfront East, Union Station, Toronto Islands</th>\n",
              "      <td>100</td>\n",
              "      <td>100</td>\n",
              "      <td>100</td>\n",
              "      <td>100</td>\n",
              "      <td>100</td>\n",
              "      <td>100</td>\n",
              "    </tr>\n",
              "    <tr>\n",
              "      <th>High Park, The Junction South</th>\n",
              "      <td>25</td>\n",
              "      <td>25</td>\n",
              "      <td>25</td>\n",
              "      <td>25</td>\n",
              "      <td>25</td>\n",
              "      <td>25</td>\n",
              "    </tr>\n",
              "    <tr>\n",
              "      <th>India Bazaar, The Beaches West</th>\n",
              "      <td>19</td>\n",
              "      <td>19</td>\n",
              "      <td>19</td>\n",
              "      <td>19</td>\n",
              "      <td>19</td>\n",
              "      <td>19</td>\n",
              "    </tr>\n",
              "    <tr>\n",
              "      <th>Kensington Market, Chinatown, Grange Park</th>\n",
              "      <td>74</td>\n",
              "      <td>74</td>\n",
              "      <td>74</td>\n",
              "      <td>74</td>\n",
              "      <td>74</td>\n",
              "      <td>74</td>\n",
              "    </tr>\n",
              "    <tr>\n",
              "      <th>Lawrence Park</th>\n",
              "      <td>3</td>\n",
              "      <td>3</td>\n",
              "      <td>3</td>\n",
              "      <td>3</td>\n",
              "      <td>3</td>\n",
              "      <td>3</td>\n",
              "    </tr>\n",
              "    <tr>\n",
              "      <th>Little Portugal, Trinity</th>\n",
              "      <td>45</td>\n",
              "      <td>45</td>\n",
              "      <td>45</td>\n",
              "      <td>45</td>\n",
              "      <td>45</td>\n",
              "      <td>45</td>\n",
              "    </tr>\n",
              "    <tr>\n",
              "      <th>Moore Park, Summerhill East</th>\n",
              "      <td>2</td>\n",
              "      <td>2</td>\n",
              "      <td>2</td>\n",
              "      <td>2</td>\n",
              "      <td>2</td>\n",
              "      <td>2</td>\n",
              "    </tr>\n",
              "    <tr>\n",
              "      <th>North Toronto West,  Lawrence Park</th>\n",
              "      <td>18</td>\n",
              "      <td>18</td>\n",
              "      <td>18</td>\n",
              "      <td>18</td>\n",
              "      <td>18</td>\n",
              "      <td>18</td>\n",
              "    </tr>\n",
              "    <tr>\n",
              "      <th>Parkdale, Roncesvalles</th>\n",
              "      <td>14</td>\n",
              "      <td>14</td>\n",
              "      <td>14</td>\n",
              "      <td>14</td>\n",
              "      <td>14</td>\n",
              "      <td>14</td>\n",
              "    </tr>\n",
              "    <tr>\n",
              "      <th>Queen's Park, Ontario Provincial Government</th>\n",
              "      <td>33</td>\n",
              "      <td>33</td>\n",
              "      <td>33</td>\n",
              "      <td>33</td>\n",
              "      <td>33</td>\n",
              "      <td>33</td>\n",
              "    </tr>\n",
              "    <tr>\n",
              "      <th>Regent Park, Harbourfront</th>\n",
              "      <td>44</td>\n",
              "      <td>44</td>\n",
              "      <td>44</td>\n",
              "      <td>44</td>\n",
              "      <td>44</td>\n",
              "      <td>44</td>\n",
              "    </tr>\n",
              "    <tr>\n",
              "      <th>Richmond, Adelaide, King</th>\n",
              "      <td>100</td>\n",
              "      <td>100</td>\n",
              "      <td>100</td>\n",
              "      <td>100</td>\n",
              "      <td>100</td>\n",
              "      <td>100</td>\n",
              "    </tr>\n",
              "    <tr>\n",
              "      <th>Rosedale</th>\n",
              "      <td>4</td>\n",
              "      <td>4</td>\n",
              "      <td>4</td>\n",
              "      <td>4</td>\n",
              "      <td>4</td>\n",
              "      <td>4</td>\n",
              "    </tr>\n",
              "    <tr>\n",
              "      <th>Roselawn</th>\n",
              "      <td>2</td>\n",
              "      <td>2</td>\n",
              "      <td>2</td>\n",
              "      <td>2</td>\n",
              "      <td>2</td>\n",
              "      <td>2</td>\n",
              "    </tr>\n",
              "    <tr>\n",
              "      <th>Runnymede, Swansea</th>\n",
              "      <td>33</td>\n",
              "      <td>33</td>\n",
              "      <td>33</td>\n",
              "      <td>33</td>\n",
              "      <td>33</td>\n",
              "      <td>33</td>\n",
              "    </tr>\n",
              "    <tr>\n",
              "      <th>St. James Town</th>\n",
              "      <td>85</td>\n",
              "      <td>85</td>\n",
              "      <td>85</td>\n",
              "      <td>85</td>\n",
              "      <td>85</td>\n",
              "      <td>85</td>\n",
              "    </tr>\n",
              "    <tr>\n",
              "      <th>St. James Town, Cabbagetown</th>\n",
              "      <td>48</td>\n",
              "      <td>48</td>\n",
              "      <td>48</td>\n",
              "      <td>48</td>\n",
              "      <td>48</td>\n",
              "      <td>48</td>\n",
              "    </tr>\n",
              "    <tr>\n",
              "      <th>Stn A PO Boxes</th>\n",
              "      <td>96</td>\n",
              "      <td>96</td>\n",
              "      <td>96</td>\n",
              "      <td>96</td>\n",
              "      <td>96</td>\n",
              "      <td>96</td>\n",
              "    </tr>\n",
              "    <tr>\n",
              "      <th>Studio District</th>\n",
              "      <td>37</td>\n",
              "      <td>37</td>\n",
              "      <td>37</td>\n",
              "      <td>37</td>\n",
              "      <td>37</td>\n",
              "      <td>37</td>\n",
              "    </tr>\n",
              "    <tr>\n",
              "      <th>Summerhill West, Rathnelly, South Hill, Forest Hill SE, Deer Park</th>\n",
              "      <td>14</td>\n",
              "      <td>14</td>\n",
              "      <td>14</td>\n",
              "      <td>14</td>\n",
              "      <td>14</td>\n",
              "      <td>14</td>\n",
              "    </tr>\n",
              "    <tr>\n",
              "      <th>The Annex, North Midtown, Yorkville</th>\n",
              "      <td>19</td>\n",
              "      <td>19</td>\n",
              "      <td>19</td>\n",
              "      <td>19</td>\n",
              "      <td>19</td>\n",
              "      <td>19</td>\n",
              "    </tr>\n",
              "    <tr>\n",
              "      <th>The Beaches</th>\n",
              "      <td>4</td>\n",
              "      <td>4</td>\n",
              "      <td>4</td>\n",
              "      <td>4</td>\n",
              "      <td>4</td>\n",
              "      <td>4</td>\n",
              "    </tr>\n",
              "    <tr>\n",
              "      <th>The Danforth West, Riverdale</th>\n",
              "      <td>43</td>\n",
              "      <td>43</td>\n",
              "      <td>43</td>\n",
              "      <td>43</td>\n",
              "      <td>43</td>\n",
              "      <td>43</td>\n",
              "    </tr>\n",
              "    <tr>\n",
              "      <th>Toronto Dominion Centre, Design Exchange</th>\n",
              "      <td>100</td>\n",
              "      <td>100</td>\n",
              "      <td>100</td>\n",
              "      <td>100</td>\n",
              "      <td>100</td>\n",
              "      <td>100</td>\n",
              "    </tr>\n",
              "    <tr>\n",
              "      <th>University of Toronto, Harbord</th>\n",
              "      <td>34</td>\n",
              "      <td>34</td>\n",
              "      <td>34</td>\n",
              "      <td>34</td>\n",
              "      <td>34</td>\n",
              "      <td>34</td>\n",
              "    </tr>\n",
              "  </tbody>\n",
              "</table>\n",
              "</div>"
            ],
            "text/plain": [
              "                                                    Neighborhood Latitude  \\\n",
              "Neighborhood                                                                \n",
              "Berczy Park                                                            55   \n",
              "Brockton, Parkdale Village, Exhibition Place                           23   \n",
              "Business reply mail Processing Centre, South Ce...                     16   \n",
              "CN Tower, King and Spadina, Railway Lands, Harb...                     16   \n",
              "Central Bay Street                                                     68   \n",
              "Christie                                                               16   \n",
              "Church and Wellesley                                                   75   \n",
              "Commerce Court, Victoria Hotel                                        100   \n",
              "Davisville                                                             33   \n",
              "Davisville North                                                        9   \n",
              "Dufferin, Dovercourt Village                                           13   \n",
              "First Canadian Place, Underground city                                100   \n",
              "Forest Hill North & West, Forest Hill Road Park                         4   \n",
              "Garden District, Ryerson                                              100   \n",
              "Harbourfront East, Union Station, Toronto Islands                     100   \n",
              "High Park, The Junction South                                          25   \n",
              "India Bazaar, The Beaches West                                         19   \n",
              "Kensington Market, Chinatown, Grange Park                              74   \n",
              "Lawrence Park                                                           3   \n",
              "Little Portugal, Trinity                                               45   \n",
              "Moore Park, Summerhill East                                             2   \n",
              "North Toronto West,  Lawrence Park                                     18   \n",
              "Parkdale, Roncesvalles                                                 14   \n",
              "Queen's Park, Ontario Provincial Government                            33   \n",
              "Regent Park, Harbourfront                                              44   \n",
              "Richmond, Adelaide, King                                              100   \n",
              "Rosedale                                                                4   \n",
              "Roselawn                                                                2   \n",
              "Runnymede, Swansea                                                     33   \n",
              "St. James Town                                                         85   \n",
              "St. James Town, Cabbagetown                                            48   \n",
              "Stn A PO Boxes                                                         96   \n",
              "Studio District                                                        37   \n",
              "Summerhill West, Rathnelly, South Hill, Forest ...                     14   \n",
              "The Annex, North Midtown, Yorkville                                    19   \n",
              "The Beaches                                                             4   \n",
              "The Danforth West, Riverdale                                           43   \n",
              "Toronto Dominion Centre, Design Exchange                              100   \n",
              "University of Toronto, Harbord                                         34   \n",
              "\n",
              "                                                    Neighborhood Longitude  \\\n",
              "Neighborhood                                                                 \n",
              "Berczy Park                                                             55   \n",
              "Brockton, Parkdale Village, Exhibition Place                            23   \n",
              "Business reply mail Processing Centre, South Ce...                      16   \n",
              "CN Tower, King and Spadina, Railway Lands, Harb...                      16   \n",
              "Central Bay Street                                                      68   \n",
              "Christie                                                                16   \n",
              "Church and Wellesley                                                    75   \n",
              "Commerce Court, Victoria Hotel                                         100   \n",
              "Davisville                                                              33   \n",
              "Davisville North                                                         9   \n",
              "Dufferin, Dovercourt Village                                            13   \n",
              "First Canadian Place, Underground city                                 100   \n",
              "Forest Hill North & West, Forest Hill Road Park                          4   \n",
              "Garden District, Ryerson                                               100   \n",
              "Harbourfront East, Union Station, Toronto Islands                      100   \n",
              "High Park, The Junction South                                           25   \n",
              "India Bazaar, The Beaches West                                          19   \n",
              "Kensington Market, Chinatown, Grange Park                               74   \n",
              "Lawrence Park                                                            3   \n",
              "Little Portugal, Trinity                                                45   \n",
              "Moore Park, Summerhill East                                              2   \n",
              "North Toronto West,  Lawrence Park                                      18   \n",
              "Parkdale, Roncesvalles                                                  14   \n",
              "Queen's Park, Ontario Provincial Government                             33   \n",
              "Regent Park, Harbourfront                                               44   \n",
              "Richmond, Adelaide, King                                               100   \n",
              "Rosedale                                                                 4   \n",
              "Roselawn                                                                 2   \n",
              "Runnymede, Swansea                                                      33   \n",
              "St. James Town                                                          85   \n",
              "St. James Town, Cabbagetown                                             48   \n",
              "Stn A PO Boxes                                                          96   \n",
              "Studio District                                                         37   \n",
              "Summerhill West, Rathnelly, South Hill, Forest ...                      14   \n",
              "The Annex, North Midtown, Yorkville                                     19   \n",
              "The Beaches                                                              4   \n",
              "The Danforth West, Riverdale                                            43   \n",
              "Toronto Dominion Centre, Design Exchange                               100   \n",
              "University of Toronto, Harbord                                          34   \n",
              "\n",
              "                                                    Venue  Venue Latitude  \\\n",
              "Neighborhood                                                                \n",
              "Berczy Park                                            55              55   \n",
              "Brockton, Parkdale Village, Exhibition Place           23              23   \n",
              "Business reply mail Processing Centre, South Ce...     16              16   \n",
              "CN Tower, King and Spadina, Railway Lands, Harb...     16              16   \n",
              "Central Bay Street                                     68              68   \n",
              "Christie                                               16              16   \n",
              "Church and Wellesley                                   75              75   \n",
              "Commerce Court, Victoria Hotel                        100             100   \n",
              "Davisville                                             33              33   \n",
              "Davisville North                                        9               9   \n",
              "Dufferin, Dovercourt Village                           13              13   \n",
              "First Canadian Place, Underground city                100             100   \n",
              "Forest Hill North & West, Forest Hill Road Park         4               4   \n",
              "Garden District, Ryerson                              100             100   \n",
              "Harbourfront East, Union Station, Toronto Islands     100             100   \n",
              "High Park, The Junction South                          25              25   \n",
              "India Bazaar, The Beaches West                         19              19   \n",
              "Kensington Market, Chinatown, Grange Park              74              74   \n",
              "Lawrence Park                                           3               3   \n",
              "Little Portugal, Trinity                               45              45   \n",
              "Moore Park, Summerhill East                             2               2   \n",
              "North Toronto West,  Lawrence Park                     18              18   \n",
              "Parkdale, Roncesvalles                                 14              14   \n",
              "Queen's Park, Ontario Provincial Government            33              33   \n",
              "Regent Park, Harbourfront                              44              44   \n",
              "Richmond, Adelaide, King                              100             100   \n",
              "Rosedale                                                4               4   \n",
              "Roselawn                                                2               2   \n",
              "Runnymede, Swansea                                     33              33   \n",
              "St. James Town                                         85              85   \n",
              "St. James Town, Cabbagetown                            48              48   \n",
              "Stn A PO Boxes                                         96              96   \n",
              "Studio District                                        37              37   \n",
              "Summerhill West, Rathnelly, South Hill, Forest ...     14              14   \n",
              "The Annex, North Midtown, Yorkville                    19              19   \n",
              "The Beaches                                             4               4   \n",
              "The Danforth West, Riverdale                           43              43   \n",
              "Toronto Dominion Centre, Design Exchange              100             100   \n",
              "University of Toronto, Harbord                         34              34   \n",
              "\n",
              "                                                    Venue Longitude  \\\n",
              "Neighborhood                                                          \n",
              "Berczy Park                                                      55   \n",
              "Brockton, Parkdale Village, Exhibition Place                     23   \n",
              "Business reply mail Processing Centre, South Ce...               16   \n",
              "CN Tower, King and Spadina, Railway Lands, Harb...               16   \n",
              "Central Bay Street                                               68   \n",
              "Christie                                                         16   \n",
              "Church and Wellesley                                             75   \n",
              "Commerce Court, Victoria Hotel                                  100   \n",
              "Davisville                                                       33   \n",
              "Davisville North                                                  9   \n",
              "Dufferin, Dovercourt Village                                     13   \n",
              "First Canadian Place, Underground city                          100   \n",
              "Forest Hill North & West, Forest Hill Road Park                   4   \n",
              "Garden District, Ryerson                                        100   \n",
              "Harbourfront East, Union Station, Toronto Islands               100   \n",
              "High Park, The Junction South                                    25   \n",
              "India Bazaar, The Beaches West                                   19   \n",
              "Kensington Market, Chinatown, Grange Park                        74   \n",
              "Lawrence Park                                                     3   \n",
              "Little Portugal, Trinity                                         45   \n",
              "Moore Park, Summerhill East                                       2   \n",
              "North Toronto West,  Lawrence Park                               18   \n",
              "Parkdale, Roncesvalles                                           14   \n",
              "Queen's Park, Ontario Provincial Government                      33   \n",
              "Regent Park, Harbourfront                                        44   \n",
              "Richmond, Adelaide, King                                        100   \n",
              "Rosedale                                                          4   \n",
              "Roselawn                                                          2   \n",
              "Runnymede, Swansea                                               33   \n",
              "St. James Town                                                   85   \n",
              "St. James Town, Cabbagetown                                      48   \n",
              "Stn A PO Boxes                                                   96   \n",
              "Studio District                                                  37   \n",
              "Summerhill West, Rathnelly, South Hill, Forest ...               14   \n",
              "The Annex, North Midtown, Yorkville                              19   \n",
              "The Beaches                                                       4   \n",
              "The Danforth West, Riverdale                                     43   \n",
              "Toronto Dominion Centre, Design Exchange                        100   \n",
              "University of Toronto, Harbord                                   34   \n",
              "\n",
              "                                                    Venue Category  \n",
              "Neighborhood                                                        \n",
              "Berczy Park                                                     55  \n",
              "Brockton, Parkdale Village, Exhibition Place                    23  \n",
              "Business reply mail Processing Centre, South Ce...              16  \n",
              "CN Tower, King and Spadina, Railway Lands, Harb...              16  \n",
              "Central Bay Street                                              68  \n",
              "Christie                                                        16  \n",
              "Church and Wellesley                                            75  \n",
              "Commerce Court, Victoria Hotel                                 100  \n",
              "Davisville                                                      33  \n",
              "Davisville North                                                 9  \n",
              "Dufferin, Dovercourt Village                                    13  \n",
              "First Canadian Place, Underground city                         100  \n",
              "Forest Hill North & West, Forest Hill Road Park                  4  \n",
              "Garden District, Ryerson                                       100  \n",
              "Harbourfront East, Union Station, Toronto Islands              100  \n",
              "High Park, The Junction South                                   25  \n",
              "India Bazaar, The Beaches West                                  19  \n",
              "Kensington Market, Chinatown, Grange Park                       74  \n",
              "Lawrence Park                                                    3  \n",
              "Little Portugal, Trinity                                        45  \n",
              "Moore Park, Summerhill East                                      2  \n",
              "North Toronto West,  Lawrence Park                              18  \n",
              "Parkdale, Roncesvalles                                          14  \n",
              "Queen's Park, Ontario Provincial Government                     33  \n",
              "Regent Park, Harbourfront                                       44  \n",
              "Richmond, Adelaide, King                                       100  \n",
              "Rosedale                                                         4  \n",
              "Roselawn                                                         2  \n",
              "Runnymede, Swansea                                              33  \n",
              "St. James Town                                                  85  \n",
              "St. James Town, Cabbagetown                                     48  \n",
              "Stn A PO Boxes                                                  96  \n",
              "Studio District                                                 37  \n",
              "Summerhill West, Rathnelly, South Hill, Forest ...              14  \n",
              "The Annex, North Midtown, Yorkville                             19  \n",
              "The Beaches                                                      4  \n",
              "The Danforth West, Riverdale                                    43  \n",
              "Toronto Dominion Centre, Design Exchange                       100  \n",
              "University of Toronto, Harbord                                  34  "
            ]
          },
          "metadata": {
            "tags": []
          },
          "execution_count": 48
        }
      ]
    },
    {
      "cell_type": "code",
      "metadata": {
        "colab": {
          "base_uri": "https://localhost:8080/"
        },
        "id": "_7j_5tlTjsbq",
        "outputId": "7e980a14-ec21-4260-f995-e7242979245e"
      },
      "source": [
        "print('There are {} unique categories'.format(len(toronto_venues['Venue Category'].unique())))"
      ],
      "execution_count": 53,
      "outputs": [
        {
          "output_type": "stream",
          "text": [
            "There are 235 unique categories\n"
          ],
          "name": "stdout"
        }
      ]
    },
    {
      "cell_type": "markdown",
      "metadata": {
        "id": "cYZZFETflPzg"
      },
      "source": [
        "## Analyzing each neighbourhood"
      ]
    },
    {
      "cell_type": "code",
      "metadata": {
        "id": "6Pq-tIXnkyph"
      },
      "source": [
        ""
      ],
      "execution_count": null,
      "outputs": []
    }
  ]
}